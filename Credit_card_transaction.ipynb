{
  "metadata": {
    "anaconda-cloud": {},
    "toc-autonumbering": true,
    "kernelspec": {
      "name": "python",
      "display_name": "Python (Pyodide)",
      "language": "python"
    },
    "language_info": {
      "codemirror_mode": {
        "name": "python",
        "version": 3
      },
      "file_extension": ".py",
      "mimetype": "text/x-python",
      "name": "python",
      "nbconvert_exporter": "python",
      "pygments_lexer": "ipython3",
      "version": "3.8"
    }
  },
  "nbformat_minor": 4,
  "nbformat": 4,
  "cells": [
    {
      "cell_type": "markdown",
      "source": "# Fraud Detection of Credit Cart Transaction",
      "metadata": {}
    },
    {
      "cell_type": "markdown",
      "source": "## 1. Loading data",
      "metadata": {}
    },
    {
      "cell_type": "code",
      "source": "import pymysql \nimport numpy as np\nimport datetime\nimport pandas as pd\nimport json\nfrom matplotlib import pyplot as plt\nfrom scipy.stats import chi2_contingency\nimport seaborn as sns\nimport matplotlib.pyplot as plt\nimport warnings\nwarnings.filterwarnings('ignore')",
      "metadata": {},
      "execution_count": 77,
      "outputs": []
    },
    {
      "cell_type": "code",
      "source": "#Befor runnning the code please upload the file \"transactions.txt \" to your jupyter environment to run the code.\ndata=[json.loads(line) for line in open('transactions.txt','r')]\n#importing with dictionary form from JSON file\ndf=pd.DataFrame.from_dict(data)\n#making into Dataframe form from dictionary form\ndf=df.replace(r'^\\s*$', np.nan, regex=True)\n#Replace empty to NaN",
      "metadata": {},
      "execution_count": 78,
      "outputs": []
    },
    {
      "cell_type": "markdown",
      "source": "Data loaded into python pandas data frame from original JSON format.",
      "metadata": {}
    },
    {
      "cell_type": "code",
      "source": "pd.options.display.max_rows=300\npd.options.display.max_columns=60 #To see all the columns\ndf.head(2)\n",
      "metadata": {},
      "execution_count": 79,
      "outputs": [
        {
          "execution_count": 79,
          "output_type": "execute_result",
          "data": {
            "text/html": [
              "<div>\n",
              "<style scoped>\n",
              "    .dataframe tbody tr th:only-of-type {\n",
              "        vertical-align: middle;\n",
              "    }\n",
              "\n",
              "    .dataframe tbody tr th {\n",
              "        vertical-align: top;\n",
              "    }\n",
              "\n",
              "    .dataframe thead th {\n",
              "        text-align: right;\n",
              "    }\n",
              "</style>\n",
              "<table border=\"1\" class=\"dataframe\">\n",
              "  <thead>\n",
              "    <tr style=\"text-align: right;\">\n",
              "      <th></th>\n",
              "      <th>accountNumber</th>\n",
              "      <th>customerId</th>\n",
              "      <th>creditLimit</th>\n",
              "      <th>availableMoney</th>\n",
              "      <th>transactionDateTime</th>\n",
              "      <th>transactionAmount</th>\n",
              "      <th>merchantName</th>\n",
              "      <th>acqCountry</th>\n",
              "      <th>merchantCountryCode</th>\n",
              "      <th>posEntryMode</th>\n",
              "      <th>posConditionCode</th>\n",
              "      <th>merchantCategoryCode</th>\n",
              "      <th>currentExpDate</th>\n",
              "      <th>accountOpenDate</th>\n",
              "      <th>dateOfLastAddressChange</th>\n",
              "      <th>cardCVV</th>\n",
              "      <th>enteredCVV</th>\n",
              "      <th>cardLast4Digits</th>\n",
              "      <th>transactionType</th>\n",
              "      <th>echoBuffer</th>\n",
              "      <th>currentBalance</th>\n",
              "      <th>merchantCity</th>\n",
              "      <th>merchantState</th>\n",
              "      <th>merchantZip</th>\n",
              "      <th>cardPresent</th>\n",
              "      <th>posOnPremises</th>\n",
              "      <th>recurringAuthInd</th>\n",
              "      <th>expirationDateKeyInMatch</th>\n",
              "      <th>isFraud</th>\n",
              "    </tr>\n",
              "  </thead>\n",
              "  <tbody>\n",
              "    <tr>\n",
              "      <th>0</th>\n",
              "      <td>737265056</td>\n",
              "      <td>737265056</td>\n",
              "      <td>5000.0</td>\n",
              "      <td>5000.0</td>\n",
              "      <td>2016-08-13T14:27:32</td>\n",
              "      <td>98.55</td>\n",
              "      <td>Uber</td>\n",
              "      <td>US</td>\n",
              "      <td>US</td>\n",
              "      <td>02</td>\n",
              "      <td>01</td>\n",
              "      <td>rideshare</td>\n",
              "      <td>06/2023</td>\n",
              "      <td>2015-03-14</td>\n",
              "      <td>2015-03-14</td>\n",
              "      <td>414</td>\n",
              "      <td>414</td>\n",
              "      <td>1803</td>\n",
              "      <td>PURCHASE</td>\n",
              "      <td>NaN</td>\n",
              "      <td>0.0</td>\n",
              "      <td>NaN</td>\n",
              "      <td>NaN</td>\n",
              "      <td>NaN</td>\n",
              "      <td>False</td>\n",
              "      <td>NaN</td>\n",
              "      <td>NaN</td>\n",
              "      <td>False</td>\n",
              "      <td>False</td>\n",
              "    </tr>\n",
              "    <tr>\n",
              "      <th>1</th>\n",
              "      <td>737265056</td>\n",
              "      <td>737265056</td>\n",
              "      <td>5000.0</td>\n",
              "      <td>5000.0</td>\n",
              "      <td>2016-10-11T05:05:54</td>\n",
              "      <td>74.51</td>\n",
              "      <td>AMC #191138</td>\n",
              "      <td>US</td>\n",
              "      <td>US</td>\n",
              "      <td>09</td>\n",
              "      <td>01</td>\n",
              "      <td>entertainment</td>\n",
              "      <td>02/2024</td>\n",
              "      <td>2015-03-14</td>\n",
              "      <td>2015-03-14</td>\n",
              "      <td>486</td>\n",
              "      <td>486</td>\n",
              "      <td>767</td>\n",
              "      <td>PURCHASE</td>\n",
              "      <td>NaN</td>\n",
              "      <td>0.0</td>\n",
              "      <td>NaN</td>\n",
              "      <td>NaN</td>\n",
              "      <td>NaN</td>\n",
              "      <td>True</td>\n",
              "      <td>NaN</td>\n",
              "      <td>NaN</td>\n",
              "      <td>False</td>\n",
              "      <td>False</td>\n",
              "    </tr>\n",
              "  </tbody>\n",
              "</table>\n",
              "</div>"
            ],
            "text/plain": [
              "  accountNumber customerId  creditLimit  availableMoney  transactionDateTime  \\\n",
              "0     737265056  737265056       5000.0          5000.0  2016-08-13T14:27:32   \n",
              "1     737265056  737265056       5000.0          5000.0  2016-10-11T05:05:54   \n",
              "\n",
              "   transactionAmount merchantName acqCountry merchantCountryCode posEntryMode  \\\n",
              "0              98.55         Uber         US                  US           02   \n",
              "1              74.51  AMC #191138         US                  US           09   \n",
              "\n",
              "  posConditionCode merchantCategoryCode currentExpDate accountOpenDate  \\\n",
              "0               01            rideshare        06/2023      2015-03-14   \n",
              "1               01        entertainment        02/2024      2015-03-14   \n",
              "\n",
              "  dateOfLastAddressChange cardCVV enteredCVV cardLast4Digits transactionType  \\\n",
              "0              2015-03-14     414        414            1803        PURCHASE   \n",
              "1              2015-03-14     486        486             767        PURCHASE   \n",
              "\n",
              "   echoBuffer  currentBalance  merchantCity  merchantState  merchantZip  \\\n",
              "0         NaN             0.0           NaN            NaN          NaN   \n",
              "1         NaN             0.0           NaN            NaN          NaN   \n",
              "\n",
              "   cardPresent  posOnPremises  recurringAuthInd  expirationDateKeyInMatch  \\\n",
              "0        False            NaN               NaN                     False   \n",
              "1         True            NaN               NaN                     False   \n",
              "\n",
              "   isFraud  \n",
              "0    False  \n",
              "1    False  "
            ]
          },
          "metadata": {}
        }
      ]
    },
    {
      "cell_type": "code",
      "source": "print(df.shape)\n#Printing out the data structure",
      "metadata": {},
      "execution_count": 80,
      "outputs": [
        {
          "name": "stdout",
          "output_type": "stream",
          "text": "(786363, 29)\n"
        }
      ]
    },
    {
      "cell_type": "markdown",
      "source": "There are 786363 transaction cases (rows) with 29 columns",
      "metadata": {}
    },
    {
      "cell_type": "markdown",
      "source": "## 2. Summary statistics for the features",
      "metadata": {}
    },
    {
      "cell_type": "markdown",
      "source": "First, there will be handling of missing values in the data.",
      "metadata": {}
    },
    {
      "cell_type": "code",
      "source": "df.info() #skimming datatype and missing",
      "metadata": {},
      "execution_count": 81,
      "outputs": [
        {
          "name": "stdout",
          "output_type": "stream",
          "text": "<class 'pandas.core.frame.DataFrame'>\n\nRangeIndex: 786363 entries, 0 to 786362\n\nData columns (total 29 columns):\n\n #   Column                    Non-Null Count   Dtype  \n\n---  ------                    --------------   -----  \n\n 0   accountNumber             786363 non-null  object \n\n 1   customerId                786363 non-null  object \n\n 2   creditLimit               786363 non-null  float64\n\n 3   availableMoney            786363 non-null  float64\n\n 4   transactionDateTime       786363 non-null  object \n\n 5   transactionAmount         786363 non-null  float64\n\n 6   merchantName              786363 non-null  object \n\n 7   acqCountry                781801 non-null  object \n\n 8   merchantCountryCode       785639 non-null  object \n\n 9   posEntryMode              782309 non-null  object \n\n 10  posConditionCode          785954 non-null  object \n\n 11  merchantCategoryCode      786363 non-null  object \n\n 12  currentExpDate            786363 non-null  object \n\n 13  accountOpenDate           786363 non-null  object \n\n 14  dateOfLastAddressChange   786363 non-null  object \n\n 15  cardCVV                   786363 non-null  object \n\n 16  enteredCVV                786363 non-null  object \n\n 17  cardLast4Digits           786363 non-null  object \n\n 18  transactionType           785665 non-null  object \n\n 19  echoBuffer                0 non-null       float64\n\n 20  currentBalance            786363 non-null  float64\n\n 21  merchantCity              0 non-null       float64\n\n 22  merchantState             0 non-null       float64\n\n 23  merchantZip               0 non-null       float64\n\n 24  cardPresent               786363 non-null  bool   \n\n 25  posOnPremises             0 non-null       float64\n\n 26  recurringAuthInd          0 non-null       float64\n\n 27  expirationDateKeyInMatch  786363 non-null  bool   \n\n 28  isFraud                   786363 non-null  bool   \n\ndtypes: bool(3), float64(10), object(16)\n\nmemory usage: 158.2+ MB\n"
        }
      ]
    },
    {
      "cell_type": "code",
      "source": "df.isna().sum() #count number of missing values for each column",
      "metadata": {},
      "execution_count": 82,
      "outputs": [
        {
          "execution_count": 82,
          "output_type": "execute_result",
          "data": {
            "text/plain": [
              "accountNumber                    0\n",
              "customerId                       0\n",
              "creditLimit                      0\n",
              "availableMoney                   0\n",
              "transactionDateTime              0\n",
              "transactionAmount                0\n",
              "merchantName                     0\n",
              "acqCountry                    4562\n",
              "merchantCountryCode            724\n",
              "posEntryMode                  4054\n",
              "posConditionCode               409\n",
              "merchantCategoryCode             0\n",
              "currentExpDate                   0\n",
              "accountOpenDate                  0\n",
              "dateOfLastAddressChange          0\n",
              "cardCVV                          0\n",
              "enteredCVV                       0\n",
              "cardLast4Digits                  0\n",
              "transactionType                698\n",
              "echoBuffer                  786363\n",
              "currentBalance                   0\n",
              "merchantCity                786363\n",
              "merchantState               786363\n",
              "merchantZip                 786363\n",
              "cardPresent                      0\n",
              "posOnPremises               786363\n",
              "recurringAuthInd            786363\n",
              "expirationDateKeyInMatch         0\n",
              "isFraud                          0\n",
              "dtype: int64"
            ]
          },
          "metadata": {}
        }
      ]
    },
    {
      "cell_type": "markdown",
      "source": "Six features only have NaN for every row that is not informative. So, those columns will be dropped.",
      "metadata": {}
    },
    {
      "cell_type": "code",
      "source": "df=df.drop(['echoBuffer', 'merchantCity','merchantState','merchantZip','posOnPremises','recurringAuthInd'], axis=1) # dropping six columns",
      "metadata": {},
      "execution_count": 83,
      "outputs": []
    },
    {
      "cell_type": "code",
      "source": "df.describe() #Summary statistics for continuous variables",
      "metadata": {},
      "execution_count": 84,
      "outputs": [
        {
          "execution_count": 84,
          "output_type": "execute_result",
          "data": {
            "text/html": [
              "<div>\n",
              "<style scoped>\n",
              "    .dataframe tbody tr th:only-of-type {\n",
              "        vertical-align: middle;\n",
              "    }\n",
              "\n",
              "    .dataframe tbody tr th {\n",
              "        vertical-align: top;\n",
              "    }\n",
              "\n",
              "    .dataframe thead th {\n",
              "        text-align: right;\n",
              "    }\n",
              "</style>\n",
              "<table border=\"1\" class=\"dataframe\">\n",
              "  <thead>\n",
              "    <tr style=\"text-align: right;\">\n",
              "      <th></th>\n",
              "      <th>creditLimit</th>\n",
              "      <th>availableMoney</th>\n",
              "      <th>transactionAmount</th>\n",
              "      <th>currentBalance</th>\n",
              "    </tr>\n",
              "  </thead>\n",
              "  <tbody>\n",
              "    <tr>\n",
              "      <th>count</th>\n",
              "      <td>786363.000000</td>\n",
              "      <td>786363.000000</td>\n",
              "      <td>786363.000000</td>\n",
              "      <td>786363.000000</td>\n",
              "    </tr>\n",
              "    <tr>\n",
              "      <th>mean</th>\n",
              "      <td>10759.464459</td>\n",
              "      <td>6250.725369</td>\n",
              "      <td>136.985791</td>\n",
              "      <td>4508.739089</td>\n",
              "    </tr>\n",
              "    <tr>\n",
              "      <th>std</th>\n",
              "      <td>11636.174890</td>\n",
              "      <td>8880.783989</td>\n",
              "      <td>147.725569</td>\n",
              "      <td>6457.442068</td>\n",
              "    </tr>\n",
              "    <tr>\n",
              "      <th>min</th>\n",
              "      <td>250.000000</td>\n",
              "      <td>-1005.630000</td>\n",
              "      <td>0.000000</td>\n",
              "      <td>0.000000</td>\n",
              "    </tr>\n",
              "    <tr>\n",
              "      <th>25%</th>\n",
              "      <td>5000.000000</td>\n",
              "      <td>1077.420000</td>\n",
              "      <td>33.650000</td>\n",
              "      <td>689.910000</td>\n",
              "    </tr>\n",
              "    <tr>\n",
              "      <th>50%</th>\n",
              "      <td>7500.000000</td>\n",
              "      <td>3184.860000</td>\n",
              "      <td>87.900000</td>\n",
              "      <td>2451.760000</td>\n",
              "    </tr>\n",
              "    <tr>\n",
              "      <th>75%</th>\n",
              "      <td>15000.000000</td>\n",
              "      <td>7500.000000</td>\n",
              "      <td>191.480000</td>\n",
              "      <td>5291.095000</td>\n",
              "    </tr>\n",
              "    <tr>\n",
              "      <th>max</th>\n",
              "      <td>50000.000000</td>\n",
              "      <td>50000.000000</td>\n",
              "      <td>2011.540000</td>\n",
              "      <td>47498.810000</td>\n",
              "    </tr>\n",
              "  </tbody>\n",
              "</table>\n",
              "</div>"
            ],
            "text/plain": [
              "         creditLimit  availableMoney  transactionAmount  currentBalance\n",
              "count  786363.000000   786363.000000      786363.000000   786363.000000\n",
              "mean    10759.464459     6250.725369         136.985791     4508.739089\n",
              "std     11636.174890     8880.783989         147.725569     6457.442068\n",
              "min       250.000000    -1005.630000           0.000000        0.000000\n",
              "25%      5000.000000     1077.420000          33.650000      689.910000\n",
              "50%      7500.000000     3184.860000          87.900000     2451.760000\n",
              "75%     15000.000000     7500.000000         191.480000     5291.095000\n",
              "max     50000.000000    50000.000000        2011.540000    47498.810000"
            ]
          },
          "metadata": {}
        }
      ]
    },
    {
      "cell_type": "markdown",
      "source": "These are summary statistics of the continuous variables that are monetary values. \n I can check that the limits of credit are under \\\\$50,000 dollars and usually around \\\\$10,000. These features do not have missing values, so there is no need to conduct missing imputations for them. ",
      "metadata": {}
    },
    {
      "cell_type": "markdown",
      "source": "For the categorical features, I will treat them as one of the categories 'Unknown'.",
      "metadata": {}
    },
    {
      "cell_type": "code",
      "source": "df=df.replace(np.nan,'Unknown') # change NaN to Unknown ",
      "metadata": {},
      "execution_count": 85,
      "outputs": []
    },
    {
      "cell_type": "code",
      "source": "df.nunique()",
      "metadata": {},
      "execution_count": 86,
      "outputs": [
        {
          "execution_count": 86,
          "output_type": "execute_result",
          "data": {
            "text/plain": [
              "accountNumber                 5000\n",
              "customerId                    5000\n",
              "creditLimit                     10\n",
              "availableMoney              521916\n",
              "transactionDateTime         776637\n",
              "transactionAmount            66038\n",
              "merchantName                  2490\n",
              "acqCountry                       5\n",
              "merchantCountryCode              5\n",
              "posEntryMode                     6\n",
              "posConditionCode                 4\n",
              "merchantCategoryCode            19\n",
              "currentExpDate                 165\n",
              "accountOpenDate               1820\n",
              "dateOfLastAddressChange       2184\n",
              "cardCVV                        899\n",
              "enteredCVV                     976\n",
              "cardLast4Digits               5246\n",
              "transactionType                  4\n",
              "currentBalance              487318\n",
              "cardPresent                      2\n",
              "expirationDateKeyInMatch         2\n",
              "isFraud                          2\n",
              "dtype: int64"
            ]
          },
          "metadata": {}
        }
      ]
    },
    {
      "cell_type": "markdown",
      "source": "The data is 5000 customer IDs,  and the number gives the impression that the data is intentionally cut into 5000 for the convenience of this data challenge. We need to check whether the id and account number are the same thing. Also, We need to see categorical variables that might be informative for the modeling.\n",
      "metadata": {}
    },
    {
      "cell_type": "code",
      "source": "(df.accountNumber!=df.customerId).sum() #total number of rows for the mismatch between those columns",
      "metadata": {},
      "execution_count": 87,
      "outputs": [
        {
          "execution_count": 87,
          "output_type": "execute_result",
          "data": {
            "text/plain": [
              "0"
            ]
          },
          "metadata": {}
        }
      ]
    },
    {
      "cell_type": "markdown",
      "source": "The counts of difference in accountNumber and customerId is zero, so I can consider them as a same feature for this data.\n",
      "metadata": {}
    },
    {
      "cell_type": "code",
      "source": "df[['acqCountry']].value_counts()",
      "metadata": {},
      "execution_count": 88,
      "outputs": [
        {
          "execution_count": 88,
          "output_type": "execute_result",
          "data": {
            "text/plain": [
              "acqCountry\n",
              "US            774709\n",
              "Unknown         4562\n",
              "MEX             3130\n",
              "CAN             2424\n",
              "PR              1538\n",
              "dtype: int64"
            ]
          },
          "metadata": {}
        }
      ]
    },
    {
      "cell_type": "code",
      "source": "df[['cardPresent']].value_counts()",
      "metadata": {},
      "execution_count": 89,
      "outputs": [
        {
          "execution_count": 89,
          "output_type": "execute_result",
          "data": {
            "text/plain": [
              "cardPresent\n",
              "False          433495\n",
              "True           352868\n",
              "dtype: int64"
            ]
          },
          "metadata": {}
        }
      ]
    },
    {
      "cell_type": "code",
      "source": "df[['posEntryMode']].value_counts()",
      "metadata": {},
      "execution_count": 90,
      "outputs": [
        {
          "execution_count": 90,
          "output_type": "execute_result",
          "data": {
            "text/plain": [
              "posEntryMode\n",
              "05              315035\n",
              "09              236481\n",
              "02              195934\n",
              "90               19576\n",
              "80               15283\n",
              "Unknown           4054\n",
              "dtype: int64"
            ]
          },
          "metadata": {}
        }
      ]
    },
    {
      "cell_type": "code",
      "source": "df[['transactionType']].value_counts()",
      "metadata": {},
      "execution_count": 91,
      "outputs": [
        {
          "execution_count": 91,
          "output_type": "execute_result",
          "data": {
            "text/plain": [
              "transactionType     \n",
              "PURCHASE                745193\n",
              "REVERSAL                 20303\n",
              "ADDRESS_VERIFICATION     20169\n",
              "Unknown                    698\n",
              "dtype: int64"
            ]
          },
          "metadata": {}
        }
      ]
    },
    {
      "cell_type": "code",
      "source": "df[['isFraud']].value_counts()",
      "metadata": {},
      "execution_count": 92,
      "outputs": [
        {
          "execution_count": 92,
          "output_type": "execute_result",
          "data": {
            "text/plain": [
              "isFraud\n",
              "False      773946\n",
              "True        12417\n",
              "dtype: int64"
            ]
          },
          "metadata": {}
        }
      ]
    },
    {
      "cell_type": "markdown",
      "source": "These are value counts for each category for some categorical variables in the data. The isFraud is the target variable for predictive modeling in the later part. I can see that there are lot more False than True.",
      "metadata": {}
    },
    {
      "cell_type": "markdown",
      "source": "## 3. Exploratory analysis",
      "metadata": {}
    },
    {
      "cell_type": "markdown",
      "source": "### transaction amount by transaction type.",
      "metadata": {}
    },
    {
      "cell_type": "code",
      "source": "df2=df.copy()\n#Copy from df in Q1\ndf2['transactionAmount'].hist(by=df2['transactionType'],bins=50,figsize=(8,6)) # histogram by transaction type",
      "metadata": {},
      "execution_count": 93,
      "outputs": [
        {
          "execution_count": 93,
          "output_type": "execute_result",
          "data": {
            "text/plain": [
              "array([[<AxesSubplot:title={'center':'ADDRESS_VERIFICATION'}>,\n",
              "        <AxesSubplot:title={'center':'PURCHASE'}>],\n",
              "       [<AxesSubplot:title={'center':'REVERSAL'}>,\n",
              "        <AxesSubplot:title={'center':'Unknown'}>]], dtype=object)"
            ]
          },
          "metadata": {}
        },
        {
          "output_type": "display_data",
          "data": {
            "image/png": "[encoded data removed]",
            "text/plain": [
              "<Figure size 576x432 with 4 Axes>"
            ]
          },
          "metadata": {
            "needs_background": "light"
          }
        }
      ]
    },
    {
      "cell_type": "code",
      "source": "df2[['transactionType']].value_counts()",
      "metadata": {},
      "execution_count": 94,
      "outputs": [
        {
          "execution_count": 94,
          "output_type": "execute_result",
          "data": {
            "text/plain": [
              "transactionType     \n",
              "PURCHASE                745193\n",
              "REVERSAL                 20303\n",
              "ADDRESS_VERIFICATION     20169\n",
              "Unknown                    698\n",
              "dtype: int64"
            ]
          },
          "metadata": {}
        }
      ]
    },
    {
      "cell_type": "markdown",
      "source": "There are only 698 unknown transactions, so it seems almost ignorable.\nThe address verification is not an actual transaction that money flows.\nPurchases are mostly under \\\\$500, and it is skewed to the right. Most of the transactions are happening in cheap buying.\nReversal of the purchase is also similar to the purchase with slightly more expensive transactions included.",
      "metadata": {}
    },
    {
      "cell_type": "markdown",
      "source": "It is natural to think that fraud transactions will be more pricy than normal transactions. To check this hypothesis, I compared transactionAmount between fraud and non-fraud transactions.",
      "metadata": {}
    },
    {
      "cell_type": "code",
      "source": "df2['transactionAmount'].hist(by=df2['isFraud'],bins=100) #histogram of transaction amount group by isFraud",
      "metadata": {},
      "execution_count": 96,
      "outputs": [
        {
          "execution_count": 96,
          "output_type": "execute_result",
          "data": {
            "text/plain": [
              "array([<AxesSubplot:title={'center':'False'}>,\n",
              "       <AxesSubplot:title={'center':'True'}>], dtype=object)"
            ]
          },
          "metadata": {}
        },
        {
          "output_type": "display_data",
          "data": {
            "image/png": "[encoded data removed]",
            "text/plain": [
              "<Figure size 576x288 with 2 Axes>"
            ]
          },
          "metadata": {
            "needs_background": "light"
          }
        }
      ]
    },
    {
      "cell_type": "code",
      "source": "def compare_frauds(data,par):\n    nfrd = data.loc[data[\"isFraud\"] == 0][par].rename(\"NoFraud\").describe()\n    frd = data.loc[data[\"isFraud\"] == 1][par].rename(\"Fraud\").describe()\n    comb = nfrd.to_frame().join(frd.to_frame())\n    return comb\n#A functioon to show summary statistics of transaction amount for fraud and no fraud cases.\ncompare_frauds(df2,\"transactionAmount\")",
      "metadata": {},
      "execution_count": 97,
      "outputs": [
        {
          "execution_count": 97,
          "output_type": "execute_result",
          "data": {
            "text/html": [
              "<div>\n",
              "<style scoped>\n",
              "    .dataframe tbody tr th:only-of-type {\n",
              "        vertical-align: middle;\n",
              "    }\n",
              "\n",
              "    .dataframe tbody tr th {\n",
              "        vertical-align: top;\n",
              "    }\n",
              "\n",
              "    .dataframe thead th {\n",
              "        text-align: right;\n",
              "    }\n",
              "</style>\n",
              "<table border=\"1\" class=\"dataframe\">\n",
              "  <thead>\n",
              "    <tr style=\"text-align: right;\">\n",
              "      <th></th>\n",
              "      <th>NoFraud</th>\n",
              "      <th>Fraud</th>\n",
              "    </tr>\n",
              "  </thead>\n",
              "  <tbody>\n",
              "    <tr>\n",
              "      <th>count</th>\n",
              "      <td>773946.000000</td>\n",
              "      <td>12417.000000</td>\n",
              "    </tr>\n",
              "    <tr>\n",
              "      <th>mean</th>\n",
              "      <td>135.570249</td>\n",
              "      <td>225.215905</td>\n",
              "    </tr>\n",
              "    <tr>\n",
              "      <th>std</th>\n",
              "      <td>146.525305</td>\n",
              "      <td>189.551393</td>\n",
              "    </tr>\n",
              "    <tr>\n",
              "      <th>min</th>\n",
              "      <td>0.000000</td>\n",
              "      <td>0.000000</td>\n",
              "    </tr>\n",
              "    <tr>\n",
              "      <th>25%</th>\n",
              "      <td>33.190000</td>\n",
              "      <td>86.000000</td>\n",
              "    </tr>\n",
              "    <tr>\n",
              "      <th>50%</th>\n",
              "      <td>86.760000</td>\n",
              "      <td>176.980000</td>\n",
              "    </tr>\n",
              "    <tr>\n",
              "      <th>75%</th>\n",
              "      <td>189.390000</td>\n",
              "      <td>311.460000</td>\n",
              "    </tr>\n",
              "    <tr>\n",
              "      <th>max</th>\n",
              "      <td>2011.540000</td>\n",
              "      <td>1608.350000</td>\n",
              "    </tr>\n",
              "  </tbody>\n",
              "</table>\n",
              "</div>"
            ],
            "text/plain": [
              "             NoFraud         Fraud\n",
              "count  773946.000000  12417.000000\n",
              "mean      135.570249    225.215905\n",
              "std       146.525305    189.551393\n",
              "min         0.000000      0.000000\n",
              "25%        33.190000     86.000000\n",
              "50%        86.760000    176.980000\n",
              "75%       189.390000    311.460000\n",
              "max      2011.540000   1608.350000"
            ]
          },
          "metadata": {}
        }
      ]
    },
    {
      "cell_type": "markdown",
      "source": "As expected, Fraud transactions tend to have greater transaction amounts.",
      "metadata": {}
    },
    {
      "cell_type": "markdown",
      "source": "It is possible to have different transaction trend in different time. To check the effect of hour, day, month and year, I will preprocess transactionDateTime to separate column for each of time unit.",
      "metadata": {}
    },
    {
      "cell_type": "code",
      "source": "\ndf2['hour']=pd.DatetimeIndex(df2['transactionDateTime']).hour\ndf2['dayofweek']=pd.DatetimeIndex(df2['transactionDateTime']).dayofweek\ndf2['month']=pd.DatetimeIndex(df2['transactionDateTime']).month\ndf2['year']=pd.DatetimeIndex(df2['transactionDateTime']).year\n#Extracting each of time unit for'transactionDateTime'\n\n#fig, axs=plt.subplots(5,1,sharey=True,tight_layout=True)\n\nplt.rcParams[\"figure.figsize\"] = [8, 4]\nplt.rcParams[\"figure.autolayout\"] = True\n\n\n\nfig, axes = plt.subplots(2, 2)\n#2x2 plots for 4 histograms\ndf2.hist('year', ax=axes[0,0])\ndf2.hist('month', ax=axes[0,1],bins=12)\ndf2.hist('dayofweek', ax=axes[1,0],bins=7)\ndf2.hist('hour', ax=axes[1,1],bins=24)\nplt.show()\n",
      "metadata": {},
      "execution_count": 99,
      "outputs": [
        {
          "output_type": "display_data",
          "data": {
            "image/png": "[encoded data removed]",
            "text/plain": [
              "<Figure size 576x288 with 4 Axes>"
            ]
          },
          "metadata": {
            "needs_background": "light"
          }
        }
      ]
    },
    {
      "cell_type": "markdown",
      "source": "It shows that the data is transaction data for 2016. There is some difference at different times. Will it be related to the fraud? I will check transaction distribution at different hours for non-fraud and fraud transactions.",
      "metadata": {}
    },
    {
      "cell_type": "code",
      "source": "fig, ax = plt.subplots(2, figsize=(10,7))\nfor a in ax:\n    a.set_xticks(range(24))\ndf2.loc[df3[\"isFraud\"] == 0][\"hour\"].hist(bins=np.arange(24)-0.5, ax=ax[0], grid=False)\ndf2.loc[df3[\"isFraud\"] == 1][\"hour\"].hist(bins=np.arange(24)-0.5, ax=ax[1], grid=False)\nax[0].title.set_text(\"Non Fraud Transactions\")\nax[1].title.set_text(\"Fraud Transactions\")\nplt.subplots_adjust(hspace=0.3)",
      "metadata": {},
      "execution_count": 100,
      "outputs": [
        {
          "output_type": "display_data",
          "data": {
            "image/png": "[encoded data removed]",
            "text/plain": [
              "<Figure size 720x504 with 2 Axes>"
            ]
          },
          "metadata": {
            "needs_background": "light"
          }
        }
      ]
    },
    {
      "cell_type": "markdown",
      "source": "We can see that fraud transactions tend to be less uniform across the transactions. This might work as a good predictor for Fraud detection.",
      "metadata": {}
    },
    {
      "cell_type": "markdown",
      "source": "One feature that seems interesting was cardPresent, because typical fraud happens when the card is still in one's hands.  We may check the transaction amount for cardPresent and non-present depending on fraud and non-fraud transactions.",
      "metadata": {}
    },
    {
      "cell_type": "code",
      "source": "#pvoting to draw bar graph with two groups\ndf_pivot = pd.pivot_table(\n    df2, \n    values=\"transactionAmount\",\n    index=\"isFraud\",\n    columns=\"cardPresent\", \n    aggfunc=np.mean\n) #np.mean for mean transaction amount\nax = df_pivot.plot(kind=\"bar\")\nfig = ax.get_figure()\nfig.set_size_inches(7, 6)\nax.set_xlabel(\"isFraud\")\nax.set_ylabel(\"transactionAmount\")",
      "metadata": {},
      "execution_count": 101,
      "outputs": [
        {
          "execution_count": 101,
          "output_type": "execute_result",
          "data": {
            "text/plain": [
              "Text(0, 0.5, 'transactionAmount')"
            ]
          },
          "metadata": {}
        },
        {
          "output_type": "display_data",
          "data": {
            "image/png": "[encoded data removed]",
            "text/plain": [
              "<Figure size 504x432 with 1 Axes>"
            ]
          },
          "metadata": {
            "needs_background": "light"
          }
        }
      ]
    },
    {
      "cell_type": "markdown",
      "source": "For fraud transactions, the mean amount of transactions was much higher when the card was not present. ",
      "metadata": {}
    },
    {
      "cell_type": "markdown",
      "source": "## 4. Data wragling",
      "metadata": {}
    },
    {
      "cell_type": "markdown",
      "source": "### Reversed transaction",
      "metadata": {}
    },
    {
      "cell_type": "markdown",
      "source": "Here are codes to create an indicator column for reversed transactions. The logic is explained in comments inside the code.",
      "metadata": {}
    },
    {
      "cell_type": "code",
      "source": "df3=df2.copy() #copy data from q2\ndf3['indexer']=df3.index #\ndf3['Rev_indicator']=\"NO\" #df3 is the data frame that will get the indicator column\n\ndf4=df3.copy() #temporary dataframe to get index for the rows of interest\ndf4_rev=df4[(df4['transactionType']=='REVERSAL')] # subset for reversal data\ndf4 = df4.merge(df4_rev, how='left', left_on=[\"customerId\", \"transactionAmount\",\"merchantName\"], right_on=[\"customerId\", \"transactionAmount\",\"merchantName\"])\n#Joining back the reversal subset to the full data to find reversal relevant rows\ndf_time_filtered=df4[df4.transactionDateTime_x<df4.transactionDateTime_y]\n#use only for the transactions happened earlier than the reversal transaction.\ndf_pur_filtered=df_time_filtered[df_time_filtered['transactionType_x']=='PURCHASE']\n#subsetting purchase data only among reversal-related data\ndf_maxtime=df_pur_filtered.groupby(by=['customerId','transactionAmount','merchantName']).max('transactionDateTime_x')\n#finding the latest transactions correspond to the reversal transaction \n#Change selected to temporary data.\ndf3.at[df3.index.isin(df_maxtime.indexer_x),\"Rev_indicator\"]= \"YES\"\n#apply index to df3\ndf3[df3['Rev_indicator']==\"YES\"]\n",
      "metadata": {},
      "execution_count": 102,
      "outputs": [
        {
          "execution_count": 102,
          "output_type": "execute_result",
          "data": {
            "text/html": [
              "<div>\n",
              "<style scoped>\n",
              "    .dataframe tbody tr th:only-of-type {\n",
              "        vertical-align: middle;\n",
              "    }\n",
              "\n",
              "    .dataframe tbody tr th {\n",
              "        vertical-align: top;\n",
              "    }\n",
              "\n",
              "    .dataframe thead th {\n",
              "        text-align: right;\n",
              "    }\n",
              "</style>\n",
              "<table border=\"1\" class=\"dataframe\">\n",
              "  <thead>\n",
              "    <tr style=\"text-align: right;\">\n",
              "      <th></th>\n",
              "      <th>accountNumber</th>\n",
              "      <th>customerId</th>\n",
              "      <th>creditLimit</th>\n",
              "      <th>availableMoney</th>\n",
              "      <th>transactionDateTime</th>\n",
              "      <th>transactionAmount</th>\n",
              "      <th>merchantName</th>\n",
              "      <th>acqCountry</th>\n",
              "      <th>merchantCountryCode</th>\n",
              "      <th>posEntryMode</th>\n",
              "      <th>posConditionCode</th>\n",
              "      <th>merchantCategoryCode</th>\n",
              "      <th>currentExpDate</th>\n",
              "      <th>accountOpenDate</th>\n",
              "      <th>dateOfLastAddressChange</th>\n",
              "      <th>cardCVV</th>\n",
              "      <th>enteredCVV</th>\n",
              "      <th>cardLast4Digits</th>\n",
              "      <th>transactionType</th>\n",
              "      <th>currentBalance</th>\n",
              "      <th>cardPresent</th>\n",
              "      <th>expirationDateKeyInMatch</th>\n",
              "      <th>isFraud</th>\n",
              "      <th>hour</th>\n",
              "      <th>dayofweek</th>\n",
              "      <th>month</th>\n",
              "      <th>year</th>\n",
              "      <th>indexer</th>\n",
              "      <th>Rev_indicator</th>\n",
              "    </tr>\n",
              "  </thead>\n",
              "  <tbody>\n",
              "    <tr>\n",
              "      <th>38</th>\n",
              "      <td>574788567</td>\n",
              "      <td>574788567</td>\n",
              "      <td>2500.0</td>\n",
              "      <td>2416.11</td>\n",
              "      <td>2016-05-24T01:35:33</td>\n",
              "      <td>215.13</td>\n",
              "      <td>Convenient Tire</td>\n",
              "      <td>US</td>\n",
              "      <td>US</td>\n",
              "      <td>09</td>\n",
              "      <td>01</td>\n",
              "      <td>auto</td>\n",
              "      <td>10/2021</td>\n",
              "      <td>2015-10-13</td>\n",
              "      <td>2015-10-13</td>\n",
              "      <td>206</td>\n",
              "      <td>206</td>\n",
              "      <td>8522</td>\n",
              "      <td>PURCHASE</td>\n",
              "      <td>83.89</td>\n",
              "      <td>True</td>\n",
              "      <td>False</td>\n",
              "      <td>False</td>\n",
              "      <td>1</td>\n",
              "      <td>1</td>\n",
              "      <td>5</td>\n",
              "      <td>2016</td>\n",
              "      <td>38</td>\n",
              "      <td>YES</td>\n",
              "    </tr>\n",
              "    <tr>\n",
              "      <th>100</th>\n",
              "      <td>924729945</td>\n",
              "      <td>924729945</td>\n",
              "      <td>50000.0</td>\n",
              "      <td>50000.00</td>\n",
              "      <td>2016-10-04T04:20:04</td>\n",
              "      <td>168.57</td>\n",
              "      <td>discount.com</td>\n",
              "      <td>US</td>\n",
              "      <td>US</td>\n",
              "      <td>05</td>\n",
              "      <td>01</td>\n",
              "      <td>online_retail</td>\n",
              "      <td>11/2024</td>\n",
              "      <td>2014-07-25</td>\n",
              "      <td>2014-07-25</td>\n",
              "      <td>205</td>\n",
              "      <td>265</td>\n",
              "      <td>9459</td>\n",
              "      <td>PURCHASE</td>\n",
              "      <td>0.00</td>\n",
              "      <td>False</td>\n",
              "      <td>False</td>\n",
              "      <td>False</td>\n",
              "      <td>4</td>\n",
              "      <td>1</td>\n",
              "      <td>10</td>\n",
              "      <td>2016</td>\n",
              "      <td>100</td>\n",
              "      <td>YES</td>\n",
              "    </tr>\n",
              "    <tr>\n",
              "      <th>113</th>\n",
              "      <td>984504651</td>\n",
              "      <td>984504651</td>\n",
              "      <td>50000.0</td>\n",
              "      <td>49138.85</td>\n",
              "      <td>2016-01-06T04:08:06</td>\n",
              "      <td>83.64</td>\n",
              "      <td>1st Sandwitch Bar #801388</td>\n",
              "      <td>US</td>\n",
              "      <td>US</td>\n",
              "      <td>09</td>\n",
              "      <td>01</td>\n",
              "      <td>food</td>\n",
              "      <td>11/2025</td>\n",
              "      <td>2015-07-27</td>\n",
              "      <td>2015-07-27</td>\n",
              "      <td>640</td>\n",
              "      <td>640</td>\n",
              "      <td>8332</td>\n",
              "      <td>PURCHASE</td>\n",
              "      <td>861.15</td>\n",
              "      <td>True</td>\n",
              "      <td>False</td>\n",
              "      <td>False</td>\n",
              "      <td>4</td>\n",
              "      <td>2</td>\n",
              "      <td>1</td>\n",
              "      <td>2016</td>\n",
              "      <td>113</td>\n",
              "      <td>YES</td>\n",
              "    </tr>\n",
              "    <tr>\n",
              "      <th>132</th>\n",
              "      <td>984504651</td>\n",
              "      <td>984504651</td>\n",
              "      <td>50000.0</td>\n",
              "      <td>46818.15</td>\n",
              "      <td>2016-01-16T09:52:30</td>\n",
              "      <td>450.74</td>\n",
              "      <td>Planet Fitness #849960</td>\n",
              "      <td>US</td>\n",
              "      <td>US</td>\n",
              "      <td>05</td>\n",
              "      <td>01</td>\n",
              "      <td>health</td>\n",
              "      <td>08/2028</td>\n",
              "      <td>2015-07-27</td>\n",
              "      <td>2015-07-27</td>\n",
              "      <td>640</td>\n",
              "      <td>640</td>\n",
              "      <td>8332</td>\n",
              "      <td>PURCHASE</td>\n",
              "      <td>3181.85</td>\n",
              "      <td>False</td>\n",
              "      <td>False</td>\n",
              "      <td>False</td>\n",
              "      <td>9</td>\n",
              "      <td>5</td>\n",
              "      <td>1</td>\n",
              "      <td>2016</td>\n",
              "      <td>132</td>\n",
              "      <td>YES</td>\n",
              "    </tr>\n",
              "    <tr>\n",
              "      <th>138</th>\n",
              "      <td>984504651</td>\n",
              "      <td>984504651</td>\n",
              "      <td>50000.0</td>\n",
              "      <td>46341.05</td>\n",
              "      <td>2016-01-17T08:13:08</td>\n",
              "      <td>81.73</td>\n",
              "      <td>AMC #724446</td>\n",
              "      <td>US</td>\n",
              "      <td>US</td>\n",
              "      <td>09</td>\n",
              "      <td>01</td>\n",
              "      <td>entertainment</td>\n",
              "      <td>12/2031</td>\n",
              "      <td>2015-07-27</td>\n",
              "      <td>2015-07-27</td>\n",
              "      <td>640</td>\n",
              "      <td>640</td>\n",
              "      <td>8332</td>\n",
              "      <td>PURCHASE</td>\n",
              "      <td>3658.95</td>\n",
              "      <td>True</td>\n",
              "      <td>False</td>\n",
              "      <td>False</td>\n",
              "      <td>8</td>\n",
              "      <td>6</td>\n",
              "      <td>1</td>\n",
              "      <td>2016</td>\n",
              "      <td>138</td>\n",
              "      <td>YES</td>\n",
              "    </tr>\n",
              "    <tr>\n",
              "      <th>...</th>\n",
              "      <td>...</td>\n",
              "      <td>...</td>\n",
              "      <td>...</td>\n",
              "      <td>...</td>\n",
              "      <td>...</td>\n",
              "      <td>...</td>\n",
              "      <td>...</td>\n",
              "      <td>...</td>\n",
              "      <td>...</td>\n",
              "      <td>...</td>\n",
              "      <td>...</td>\n",
              "      <td>...</td>\n",
              "      <td>...</td>\n",
              "      <td>...</td>\n",
              "      <td>...</td>\n",
              "      <td>...</td>\n",
              "      <td>...</td>\n",
              "      <td>...</td>\n",
              "      <td>...</td>\n",
              "      <td>...</td>\n",
              "      <td>...</td>\n",
              "      <td>...</td>\n",
              "      <td>...</td>\n",
              "      <td>...</td>\n",
              "      <td>...</td>\n",
              "      <td>...</td>\n",
              "      <td>...</td>\n",
              "      <td>...</td>\n",
              "      <td>...</td>\n",
              "    </tr>\n",
              "    <tr>\n",
              "      <th>786013</th>\n",
              "      <td>205026043</td>\n",
              "      <td>205026043</td>\n",
              "      <td>5000.0</td>\n",
              "      <td>1627.52</td>\n",
              "      <td>2016-09-18T06:07:17</td>\n",
              "      <td>56.26</td>\n",
              "      <td>Lyft</td>\n",
              "      <td>US</td>\n",
              "      <td>US</td>\n",
              "      <td>05</td>\n",
              "      <td>01</td>\n",
              "      <td>rideshare</td>\n",
              "      <td>07/2031</td>\n",
              "      <td>2008-04-15</td>\n",
              "      <td>2008-04-15</td>\n",
              "      <td>359</td>\n",
              "      <td>359</td>\n",
              "      <td>258</td>\n",
              "      <td>PURCHASE</td>\n",
              "      <td>3372.48</td>\n",
              "      <td>False</td>\n",
              "      <td>False</td>\n",
              "      <td>False</td>\n",
              "      <td>6</td>\n",
              "      <td>6</td>\n",
              "      <td>9</td>\n",
              "      <td>2016</td>\n",
              "      <td>786013</td>\n",
              "      <td>YES</td>\n",
              "    </tr>\n",
              "    <tr>\n",
              "      <th>786070</th>\n",
              "      <td>288358186</td>\n",
              "      <td>288358186</td>\n",
              "      <td>7500.0</td>\n",
              "      <td>7407.25</td>\n",
              "      <td>2016-08-02T18:42:42</td>\n",
              "      <td>20.66</td>\n",
              "      <td>ebay.com</td>\n",
              "      <td>US</td>\n",
              "      <td>US</td>\n",
              "      <td>09</td>\n",
              "      <td>01</td>\n",
              "      <td>online_retail</td>\n",
              "      <td>09/2028</td>\n",
              "      <td>2014-08-21</td>\n",
              "      <td>2014-08-21</td>\n",
              "      <td>355</td>\n",
              "      <td>355</td>\n",
              "      <td>1665</td>\n",
              "      <td>PURCHASE</td>\n",
              "      <td>92.75</td>\n",
              "      <td>False</td>\n",
              "      <td>False</td>\n",
              "      <td>False</td>\n",
              "      <td>18</td>\n",
              "      <td>1</td>\n",
              "      <td>8</td>\n",
              "      <td>2016</td>\n",
              "      <td>786070</td>\n",
              "      <td>YES</td>\n",
              "    </tr>\n",
              "    <tr>\n",
              "      <th>786119</th>\n",
              "      <td>638498773</td>\n",
              "      <td>638498773</td>\n",
              "      <td>10000.0</td>\n",
              "      <td>10000.00</td>\n",
              "      <td>2016-01-01T19:45:47</td>\n",
              "      <td>201.79</td>\n",
              "      <td>KFC #928167</td>\n",
              "      <td>US</td>\n",
              "      <td>US</td>\n",
              "      <td>05</td>\n",
              "      <td>01</td>\n",
              "      <td>fastfood</td>\n",
              "      <td>11/2032</td>\n",
              "      <td>2014-11-17</td>\n",
              "      <td>2014-11-17</td>\n",
              "      <td>175</td>\n",
              "      <td>175</td>\n",
              "      <td>321</td>\n",
              "      <td>PURCHASE</td>\n",
              "      <td>0.00</td>\n",
              "      <td>True</td>\n",
              "      <td>False</td>\n",
              "      <td>False</td>\n",
              "      <td>19</td>\n",
              "      <td>4</td>\n",
              "      <td>1</td>\n",
              "      <td>2016</td>\n",
              "      <td>786119</td>\n",
              "      <td>YES</td>\n",
              "    </tr>\n",
              "    <tr>\n",
              "      <th>786207</th>\n",
              "      <td>638498773</td>\n",
              "      <td>638498773</td>\n",
              "      <td>10000.0</td>\n",
              "      <td>1271.91</td>\n",
              "      <td>2016-10-09T04:52:23</td>\n",
              "      <td>86.14</td>\n",
              "      <td>Dunkin' Donuts #396342</td>\n",
              "      <td>US</td>\n",
              "      <td>US</td>\n",
              "      <td>05</td>\n",
              "      <td>01</td>\n",
              "      <td>fastfood</td>\n",
              "      <td>03/2025</td>\n",
              "      <td>2014-11-17</td>\n",
              "      <td>2014-11-17</td>\n",
              "      <td>387</td>\n",
              "      <td>387</td>\n",
              "      <td>4635</td>\n",
              "      <td>PURCHASE</td>\n",
              "      <td>8728.09</td>\n",
              "      <td>True</td>\n",
              "      <td>False</td>\n",
              "      <td>False</td>\n",
              "      <td>4</td>\n",
              "      <td>6</td>\n",
              "      <td>10</td>\n",
              "      <td>2016</td>\n",
              "      <td>786207</td>\n",
              "      <td>YES</td>\n",
              "    </tr>\n",
              "    <tr>\n",
              "      <th>786300</th>\n",
              "      <td>732852505</td>\n",
              "      <td>732852505</td>\n",
              "      <td>50000.0</td>\n",
              "      <td>49882.78</td>\n",
              "      <td>2016-06-16T10:32:11</td>\n",
              "      <td>22.55</td>\n",
              "      <td>Uber</td>\n",
              "      <td>US</td>\n",
              "      <td>US</td>\n",
              "      <td>90</td>\n",
              "      <td>01</td>\n",
              "      <td>rideshare</td>\n",
              "      <td>07/2027</td>\n",
              "      <td>2012-08-23</td>\n",
              "      <td>2012-08-23</td>\n",
              "      <td>939</td>\n",
              "      <td>939</td>\n",
              "      <td>3388</td>\n",
              "      <td>PURCHASE</td>\n",
              "      <td>117.22</td>\n",
              "      <td>False</td>\n",
              "      <td>False</td>\n",
              "      <td>False</td>\n",
              "      <td>10</td>\n",
              "      <td>3</td>\n",
              "      <td>6</td>\n",
              "      <td>2016</td>\n",
              "      <td>786300</td>\n",
              "      <td>YES</td>\n",
              "    </tr>\n",
              "  </tbody>\n",
              "</table>\n",
              "<p>17756 rows × 29 columns</p>\n",
              "</div>"
            ],
            "text/plain": [
              "       accountNumber customerId  creditLimit  availableMoney  \\\n",
              "38         574788567  574788567       2500.0         2416.11   \n",
              "100        924729945  924729945      50000.0        50000.00   \n",
              "113        984504651  984504651      50000.0        49138.85   \n",
              "132        984504651  984504651      50000.0        46818.15   \n",
              "138        984504651  984504651      50000.0        46341.05   \n",
              "...              ...        ...          ...             ...   \n",
              "786013     205026043  205026043       5000.0         1627.52   \n",
              "786070     288358186  288358186       7500.0         7407.25   \n",
              "786119     638498773  638498773      10000.0        10000.00   \n",
              "786207     638498773  638498773      10000.0         1271.91   \n",
              "786300     732852505  732852505      50000.0        49882.78   \n",
              "\n",
              "        transactionDateTime  transactionAmount               merchantName  \\\n",
              "38      2016-05-24T01:35:33             215.13            Convenient Tire   \n",
              "100     2016-10-04T04:20:04             168.57               discount.com   \n",
              "113     2016-01-06T04:08:06              83.64  1st Sandwitch Bar #801388   \n",
              "132     2016-01-16T09:52:30             450.74     Planet Fitness #849960   \n",
              "138     2016-01-17T08:13:08              81.73                AMC #724446   \n",
              "...                     ...                ...                        ...   \n",
              "786013  2016-09-18T06:07:17              56.26                       Lyft   \n",
              "786070  2016-08-02T18:42:42              20.66                   ebay.com   \n",
              "786119  2016-01-01T19:45:47             201.79                KFC #928167   \n",
              "786207  2016-10-09T04:52:23              86.14     Dunkin' Donuts #396342   \n",
              "786300  2016-06-16T10:32:11              22.55                       Uber   \n",
              "\n",
              "       acqCountry merchantCountryCode posEntryMode posConditionCode  \\\n",
              "38             US                  US           09               01   \n",
              "100            US                  US           05               01   \n",
              "113            US                  US           09               01   \n",
              "132            US                  US           05               01   \n",
              "138            US                  US           09               01   \n",
              "...           ...                 ...          ...              ...   \n",
              "786013         US                  US           05               01   \n",
              "786070         US                  US           09               01   \n",
              "786119         US                  US           05               01   \n",
              "786207         US                  US           05               01   \n",
              "786300         US                  US           90               01   \n",
              "\n",
              "       merchantCategoryCode currentExpDate accountOpenDate  \\\n",
              "38                     auto        10/2021      2015-10-13   \n",
              "100           online_retail        11/2024      2014-07-25   \n",
              "113                    food        11/2025      2015-07-27   \n",
              "132                  health        08/2028      2015-07-27   \n",
              "138           entertainment        12/2031      2015-07-27   \n",
              "...                     ...            ...             ...   \n",
              "786013            rideshare        07/2031      2008-04-15   \n",
              "786070        online_retail        09/2028      2014-08-21   \n",
              "786119             fastfood        11/2032      2014-11-17   \n",
              "786207             fastfood        03/2025      2014-11-17   \n",
              "786300            rideshare        07/2027      2012-08-23   \n",
              "\n",
              "       dateOfLastAddressChange cardCVV enteredCVV cardLast4Digits  \\\n",
              "38                  2015-10-13     206        206            8522   \n",
              "100                 2014-07-25     205        265            9459   \n",
              "113                 2015-07-27     640        640            8332   \n",
              "132                 2015-07-27     640        640            8332   \n",
              "138                 2015-07-27     640        640            8332   \n",
              "...                        ...     ...        ...             ...   \n",
              "786013              2008-04-15     359        359             258   \n",
              "786070              2014-08-21     355        355            1665   \n",
              "786119              2014-11-17     175        175             321   \n",
              "786207              2014-11-17     387        387            4635   \n",
              "786300              2012-08-23     939        939            3388   \n",
              "\n",
              "       transactionType  currentBalance  cardPresent  expirationDateKeyInMatch  \\\n",
              "38            PURCHASE           83.89         True                     False   \n",
              "100           PURCHASE            0.00        False                     False   \n",
              "113           PURCHASE          861.15         True                     False   \n",
              "132           PURCHASE         3181.85        False                     False   \n",
              "138           PURCHASE         3658.95         True                     False   \n",
              "...                ...             ...          ...                       ...   \n",
              "786013        PURCHASE         3372.48        False                     False   \n",
              "786070        PURCHASE           92.75        False                     False   \n",
              "786119        PURCHASE            0.00         True                     False   \n",
              "786207        PURCHASE         8728.09         True                     False   \n",
              "786300        PURCHASE          117.22        False                     False   \n",
              "\n",
              "        isFraud  hour  dayofweek  month  year  indexer Rev_indicator  \n",
              "38        False     1          1      5  2016       38           YES  \n",
              "100       False     4          1     10  2016      100           YES  \n",
              "113       False     4          2      1  2016      113           YES  \n",
              "132       False     9          5      1  2016      132           YES  \n",
              "138       False     8          6      1  2016      138           YES  \n",
              "...         ...   ...        ...    ...   ...      ...           ...  \n",
              "786013    False     6          6      9  2016   786013           YES  \n",
              "786070    False    18          1      8  2016   786070           YES  \n",
              "786119    False    19          4      1  2016   786119           YES  \n",
              "786207    False     4          6     10  2016   786207           YES  \n",
              "786300    False    10          3      6  2016   786300           YES  \n",
              "\n",
              "[17756 rows x 29 columns]"
            ]
          },
          "metadata": {}
        }
      ]
    },
    {
      "cell_type": "code",
      "source": "print(df3[df3['Rev_indicator']==\"YES\"].shape[0], df3[df3['Rev_indicator']==\"YES\"]['transactionAmount'].sum())",
      "metadata": {},
      "execution_count": 103,
      "outputs": [
        {
          "name": "stdout",
          "output_type": "stream",
          "text": "17756 2666451.8\n"
        }
      ]
    },
    {
      "cell_type": "markdown",
      "source": "There are 17756 cases of reversed transaction and the total dollar amount of reversed transaction is $2,666,451.8.",
      "metadata": {}
    },
    {
      "cell_type": "markdown",
      "source": "### Multi-swipe transaction",
      "metadata": {}
    },
    {
      "cell_type": "markdown",
      "source": "Here are codes to create an indicator column for multi-swipe transactions. The logic is explained in comments inside the code. It is uncertain that the multi-swipe transaction can happen in which size of a time window. This time 10 minutes were selected arbitrarily.",
      "metadata": {}
    },
    {
      "cell_type": "code",
      "source": "\n#Continuing from df3 made for reversed transaction\ndf3['Multi_indicator']=\"NO\"\ndf3_m=df3[(df3['transactionType']=='PURCHASE')] \n# subset for only purchase data\ndf3_m.loc[:,'timewindow']=pd.to_datetime(df3_m['transactionDateTime'])\ndf3_m.loc[:,'timewindow_lower']=pd.to_datetime(df3_m['transactionDateTime'])-datetime.timedelta(minutes=10)\ndf3_m.loc[:,'timewindow_upper']=pd.to_datetime(df3_m['transactionDateTime'])+datetime.timedelta(minutes=10)\n#Creating time 10 minute window for a transaction.\ndf3_m['Multi_all']=df3_m.duplicated([\"customerId\", \"transactionAmount\",\"merchantName\"],keep=False)\n#Temporary indictor for transactions that has duplicated transactions in terms of id, smount and merchant \n#(does not mean they are multi swipe though)\ndf3_m['Multi_error']=df3_m.duplicated([\"customerId\", \"transactionAmount\",\"merchantName\"],keep='first')\n#Give false for first transaction first transaction is normal not multiswiped\ndf3_m_merged=df3_m[df3_m['Multi_all']==True].merge(df3_m[(df3_m['Multi_all']==True) & (df3_m['Multi_error']==False)], \n                                                   how='left', left_on=[\"customerId\", \"transactionAmount\",\"merchantName\"], \n                                                   right_on=[\"customerId\", \"transactionAmount\",\"merchantName\"])\n#merge dat to df3_m with multi transaction data to get indexer from it.\ndf3_m_2=df3_m_merged[((df3_m_merged['Multi_error_x']==False)| (df3_m_merged['Multi_error_x']==True)\n     & (df3_m_merged['timewindow_y']>df3_m_merged['timewindow_lower_x'])  \n     & (df3_m_merged['timewindow_y']<df3_m_merged['timewindow_upper_x']))]\n#add time filter makes out of window is not to be considered as a multi-swipe transaction\ndf3.at[df3.index.isin(df3_m_2[df3_m_2['Multi_error_x']==True]['indexer_x']),\"Multi_indicator\"]= \"YES\"\n#applying the index to the df3\ndf3[df3['Multi_indicator']==\"YES\"]\n\n",
      "metadata": {},
      "execution_count": 104,
      "outputs": [
        {
          "execution_count": 104,
          "output_type": "execute_result",
          "data": {
            "text/html": [
              "<div>\n",
              "<style scoped>\n",
              "    .dataframe tbody tr th:only-of-type {\n",
              "        vertical-align: middle;\n",
              "    }\n",
              "\n",
              "    .dataframe tbody tr th {\n",
              "        vertical-align: top;\n",
              "    }\n",
              "\n",
              "    .dataframe thead th {\n",
              "        text-align: right;\n",
              "    }\n",
              "</style>\n",
              "<table border=\"1\" class=\"dataframe\">\n",
              "  <thead>\n",
              "    <tr style=\"text-align: right;\">\n",
              "      <th></th>\n",
              "      <th>accountNumber</th>\n",
              "      <th>customerId</th>\n",
              "      <th>creditLimit</th>\n",
              "      <th>availableMoney</th>\n",
              "      <th>transactionDateTime</th>\n",
              "      <th>transactionAmount</th>\n",
              "      <th>merchantName</th>\n",
              "      <th>acqCountry</th>\n",
              "      <th>merchantCountryCode</th>\n",
              "      <th>posEntryMode</th>\n",
              "      <th>posConditionCode</th>\n",
              "      <th>merchantCategoryCode</th>\n",
              "      <th>currentExpDate</th>\n",
              "      <th>accountOpenDate</th>\n",
              "      <th>dateOfLastAddressChange</th>\n",
              "      <th>cardCVV</th>\n",
              "      <th>enteredCVV</th>\n",
              "      <th>cardLast4Digits</th>\n",
              "      <th>transactionType</th>\n",
              "      <th>currentBalance</th>\n",
              "      <th>cardPresent</th>\n",
              "      <th>expirationDateKeyInMatch</th>\n",
              "      <th>isFraud</th>\n",
              "      <th>hour</th>\n",
              "      <th>dayofweek</th>\n",
              "      <th>month</th>\n",
              "      <th>year</th>\n",
              "      <th>indexer</th>\n",
              "      <th>Rev_indicator</th>\n",
              "      <th>Multi_indicator</th>\n",
              "    </tr>\n",
              "  </thead>\n",
              "  <tbody>\n",
              "    <tr>\n",
              "      <th>263</th>\n",
              "      <td>984504651</td>\n",
              "      <td>984504651</td>\n",
              "      <td>50000.0</td>\n",
              "      <td>26680.99</td>\n",
              "      <td>2016-03-12T06:34:29</td>\n",
              "      <td>118.52</td>\n",
              "      <td>AMC #706324</td>\n",
              "      <td>US</td>\n",
              "      <td>US</td>\n",
              "      <td>02</td>\n",
              "      <td>01</td>\n",
              "      <td>entertainment</td>\n",
              "      <td>10/2024</td>\n",
              "      <td>2015-07-27</td>\n",
              "      <td>2015-07-27</td>\n",
              "      <td>640</td>\n",
              "      <td>640</td>\n",
              "      <td>8332</td>\n",
              "      <td>PURCHASE</td>\n",
              "      <td>23319.01</td>\n",
              "      <td>True</td>\n",
              "      <td>False</td>\n",
              "      <td>False</td>\n",
              "      <td>6</td>\n",
              "      <td>5</td>\n",
              "      <td>3</td>\n",
              "      <td>2016</td>\n",
              "      <td>263</td>\n",
              "      <td>NO</td>\n",
              "      <td>YES</td>\n",
              "    </tr>\n",
              "    <tr>\n",
              "      <th>264</th>\n",
              "      <td>984504651</td>\n",
              "      <td>984504651</td>\n",
              "      <td>50000.0</td>\n",
              "      <td>26562.47</td>\n",
              "      <td>2016-03-12T06:36:41</td>\n",
              "      <td>118.52</td>\n",
              "      <td>AMC #706324</td>\n",
              "      <td>US</td>\n",
              "      <td>US</td>\n",
              "      <td>02</td>\n",
              "      <td>01</td>\n",
              "      <td>entertainment</td>\n",
              "      <td>10/2024</td>\n",
              "      <td>2015-07-27</td>\n",
              "      <td>2015-07-27</td>\n",
              "      <td>640</td>\n",
              "      <td>640</td>\n",
              "      <td>8332</td>\n",
              "      <td>PURCHASE</td>\n",
              "      <td>23437.53</td>\n",
              "      <td>True</td>\n",
              "      <td>False</td>\n",
              "      <td>False</td>\n",
              "      <td>6</td>\n",
              "      <td>5</td>\n",
              "      <td>3</td>\n",
              "      <td>2016</td>\n",
              "      <td>264</td>\n",
              "      <td>NO</td>\n",
              "      <td>YES</td>\n",
              "    </tr>\n",
              "    <tr>\n",
              "      <th>281</th>\n",
              "      <td>984504651</td>\n",
              "      <td>984504651</td>\n",
              "      <td>50000.0</td>\n",
              "      <td>24316.12</td>\n",
              "      <td>2016-03-18T13:57:04</td>\n",
              "      <td>26.71</td>\n",
              "      <td>Planet Fitness #692929</td>\n",
              "      <td>US</td>\n",
              "      <td>US</td>\n",
              "      <td>02</td>\n",
              "      <td>01</td>\n",
              "      <td>health</td>\n",
              "      <td>10/2024</td>\n",
              "      <td>2015-07-27</td>\n",
              "      <td>2015-07-27</td>\n",
              "      <td>640</td>\n",
              "      <td>640</td>\n",
              "      <td>8332</td>\n",
              "      <td>PURCHASE</td>\n",
              "      <td>25683.88</td>\n",
              "      <td>True</td>\n",
              "      <td>False</td>\n",
              "      <td>False</td>\n",
              "      <td>13</td>\n",
              "      <td>4</td>\n",
              "      <td>3</td>\n",
              "      <td>2016</td>\n",
              "      <td>281</td>\n",
              "      <td>NO</td>\n",
              "      <td>YES</td>\n",
              "    </tr>\n",
              "    <tr>\n",
              "      <th>339</th>\n",
              "      <td>984504651</td>\n",
              "      <td>984504651</td>\n",
              "      <td>50000.0</td>\n",
              "      <td>16503.49</td>\n",
              "      <td>2016-04-08T22:21:11</td>\n",
              "      <td>43.21</td>\n",
              "      <td>WSC #994275</td>\n",
              "      <td>US</td>\n",
              "      <td>US</td>\n",
              "      <td>02</td>\n",
              "      <td>08</td>\n",
              "      <td>health</td>\n",
              "      <td>02/2030</td>\n",
              "      <td>2015-07-27</td>\n",
              "      <td>2016-03-26</td>\n",
              "      <td>640</td>\n",
              "      <td>640</td>\n",
              "      <td>8332</td>\n",
              "      <td>PURCHASE</td>\n",
              "      <td>33496.51</td>\n",
              "      <td>False</td>\n",
              "      <td>False</td>\n",
              "      <td>False</td>\n",
              "      <td>22</td>\n",
              "      <td>4</td>\n",
              "      <td>4</td>\n",
              "      <td>2016</td>\n",
              "      <td>339</td>\n",
              "      <td>NO</td>\n",
              "      <td>YES</td>\n",
              "    </tr>\n",
              "    <tr>\n",
              "      <th>413</th>\n",
              "      <td>984504651</td>\n",
              "      <td>984504651</td>\n",
              "      <td>50000.0</td>\n",
              "      <td>7302.32</td>\n",
              "      <td>2016-05-07T07:32:54</td>\n",
              "      <td>23.82</td>\n",
              "      <td>Golds Gym #846582</td>\n",
              "      <td>US</td>\n",
              "      <td>US</td>\n",
              "      <td>09</td>\n",
              "      <td>01</td>\n",
              "      <td>health</td>\n",
              "      <td>12/2030</td>\n",
              "      <td>2015-07-27</td>\n",
              "      <td>2016-05-05</td>\n",
              "      <td>640</td>\n",
              "      <td>640</td>\n",
              "      <td>8332</td>\n",
              "      <td>PURCHASE</td>\n",
              "      <td>42697.68</td>\n",
              "      <td>True</td>\n",
              "      <td>False</td>\n",
              "      <td>False</td>\n",
              "      <td>7</td>\n",
              "      <td>5</td>\n",
              "      <td>5</td>\n",
              "      <td>2016</td>\n",
              "      <td>413</td>\n",
              "      <td>NO</td>\n",
              "      <td>YES</td>\n",
              "    </tr>\n",
              "    <tr>\n",
              "      <th>...</th>\n",
              "      <td>...</td>\n",
              "      <td>...</td>\n",
              "      <td>...</td>\n",
              "      <td>...</td>\n",
              "      <td>...</td>\n",
              "      <td>...</td>\n",
              "      <td>...</td>\n",
              "      <td>...</td>\n",
              "      <td>...</td>\n",
              "      <td>...</td>\n",
              "      <td>...</td>\n",
              "      <td>...</td>\n",
              "      <td>...</td>\n",
              "      <td>...</td>\n",
              "      <td>...</td>\n",
              "      <td>...</td>\n",
              "      <td>...</td>\n",
              "      <td>...</td>\n",
              "      <td>...</td>\n",
              "      <td>...</td>\n",
              "      <td>...</td>\n",
              "      <td>...</td>\n",
              "      <td>...</td>\n",
              "      <td>...</td>\n",
              "      <td>...</td>\n",
              "      <td>...</td>\n",
              "      <td>...</td>\n",
              "      <td>...</td>\n",
              "      <td>...</td>\n",
              "      <td>...</td>\n",
              "    </tr>\n",
              "    <tr>\n",
              "      <th>785758</th>\n",
              "      <td>207667444</td>\n",
              "      <td>207667444</td>\n",
              "      <td>7500.0</td>\n",
              "      <td>6893.70</td>\n",
              "      <td>2016-10-14T13:24:58</td>\n",
              "      <td>79.82</td>\n",
              "      <td>discount.com</td>\n",
              "      <td>US</td>\n",
              "      <td>US</td>\n",
              "      <td>02</td>\n",
              "      <td>01</td>\n",
              "      <td>online_retail</td>\n",
              "      <td>03/2025</td>\n",
              "      <td>2011-12-12</td>\n",
              "      <td>2016-08-16</td>\n",
              "      <td>235</td>\n",
              "      <td>235</td>\n",
              "      <td>9853</td>\n",
              "      <td>PURCHASE</td>\n",
              "      <td>606.30</td>\n",
              "      <td>False</td>\n",
              "      <td>False</td>\n",
              "      <td>False</td>\n",
              "      <td>13</td>\n",
              "      <td>4</td>\n",
              "      <td>10</td>\n",
              "      <td>2016</td>\n",
              "      <td>785758</td>\n",
              "      <td>NO</td>\n",
              "      <td>YES</td>\n",
              "    </tr>\n",
              "    <tr>\n",
              "      <th>785915</th>\n",
              "      <td>428856030</td>\n",
              "      <td>428856030</td>\n",
              "      <td>250.0</td>\n",
              "      <td>104.44</td>\n",
              "      <td>2016-10-30T20:59:18</td>\n",
              "      <td>314.07</td>\n",
              "      <td>Rodeway Inn #438868</td>\n",
              "      <td>US</td>\n",
              "      <td>US</td>\n",
              "      <td>02</td>\n",
              "      <td>01</td>\n",
              "      <td>hotels</td>\n",
              "      <td>02/2027</td>\n",
              "      <td>2009-08-17</td>\n",
              "      <td>2009-08-17</td>\n",
              "      <td>990</td>\n",
              "      <td>990</td>\n",
              "      <td>7660</td>\n",
              "      <td>PURCHASE</td>\n",
              "      <td>145.56</td>\n",
              "      <td>True</td>\n",
              "      <td>False</td>\n",
              "      <td>False</td>\n",
              "      <td>20</td>\n",
              "      <td>6</td>\n",
              "      <td>10</td>\n",
              "      <td>2016</td>\n",
              "      <td>785915</td>\n",
              "      <td>NO</td>\n",
              "      <td>YES</td>\n",
              "    </tr>\n",
              "    <tr>\n",
              "      <th>785983</th>\n",
              "      <td>205026043</td>\n",
              "      <td>205026043</td>\n",
              "      <td>5000.0</td>\n",
              "      <td>451.59</td>\n",
              "      <td>2016-06-07T22:29:11</td>\n",
              "      <td>391.94</td>\n",
              "      <td>Uber</td>\n",
              "      <td>US</td>\n",
              "      <td>US</td>\n",
              "      <td>09</td>\n",
              "      <td>08</td>\n",
              "      <td>rideshare</td>\n",
              "      <td>12/2029</td>\n",
              "      <td>2008-04-15</td>\n",
              "      <td>2008-04-15</td>\n",
              "      <td>198</td>\n",
              "      <td>198</td>\n",
              "      <td>3931</td>\n",
              "      <td>PURCHASE</td>\n",
              "      <td>4548.41</td>\n",
              "      <td>False</td>\n",
              "      <td>False</td>\n",
              "      <td>False</td>\n",
              "      <td>22</td>\n",
              "      <td>1</td>\n",
              "      <td>6</td>\n",
              "      <td>2016</td>\n",
              "      <td>785983</td>\n",
              "      <td>NO</td>\n",
              "      <td>YES</td>\n",
              "    </tr>\n",
              "    <tr>\n",
              "      <th>785984</th>\n",
              "      <td>205026043</td>\n",
              "      <td>205026043</td>\n",
              "      <td>5000.0</td>\n",
              "      <td>433.52</td>\n",
              "      <td>2016-06-07T22:30:57</td>\n",
              "      <td>391.94</td>\n",
              "      <td>Uber</td>\n",
              "      <td>US</td>\n",
              "      <td>US</td>\n",
              "      <td>09</td>\n",
              "      <td>08</td>\n",
              "      <td>rideshare</td>\n",
              "      <td>12/2029</td>\n",
              "      <td>2008-04-15</td>\n",
              "      <td>2008-04-15</td>\n",
              "      <td>198</td>\n",
              "      <td>198</td>\n",
              "      <td>3931</td>\n",
              "      <td>PURCHASE</td>\n",
              "      <td>4566.48</td>\n",
              "      <td>False</td>\n",
              "      <td>False</td>\n",
              "      <td>False</td>\n",
              "      <td>22</td>\n",
              "      <td>1</td>\n",
              "      <td>6</td>\n",
              "      <td>2016</td>\n",
              "      <td>785984</td>\n",
              "      <td>NO</td>\n",
              "      <td>YES</td>\n",
              "    </tr>\n",
              "    <tr>\n",
              "      <th>786233</th>\n",
              "      <td>638498773</td>\n",
              "      <td>638498773</td>\n",
              "      <td>10000.0</td>\n",
              "      <td>3049.18</td>\n",
              "      <td>2016-11-29T23:12:01</td>\n",
              "      <td>390.98</td>\n",
              "      <td>Krispy Kreme #653472</td>\n",
              "      <td>US</td>\n",
              "      <td>US</td>\n",
              "      <td>05</td>\n",
              "      <td>01</td>\n",
              "      <td>fastfood</td>\n",
              "      <td>07/2032</td>\n",
              "      <td>2014-11-17</td>\n",
              "      <td>2014-11-17</td>\n",
              "      <td>175</td>\n",
              "      <td>175</td>\n",
              "      <td>321</td>\n",
              "      <td>PURCHASE</td>\n",
              "      <td>6950.82</td>\n",
              "      <td>True</td>\n",
              "      <td>False</td>\n",
              "      <td>False</td>\n",
              "      <td>23</td>\n",
              "      <td>1</td>\n",
              "      <td>11</td>\n",
              "      <td>2016</td>\n",
              "      <td>786233</td>\n",
              "      <td>NO</td>\n",
              "      <td>YES</td>\n",
              "    </tr>\n",
              "  </tbody>\n",
              "</table>\n",
              "<p>7429 rows × 30 columns</p>\n",
              "</div>"
            ],
            "text/plain": [
              "       accountNumber customerId  creditLimit  availableMoney  \\\n",
              "263        984504651  984504651      50000.0        26680.99   \n",
              "264        984504651  984504651      50000.0        26562.47   \n",
              "281        984504651  984504651      50000.0        24316.12   \n",
              "339        984504651  984504651      50000.0        16503.49   \n",
              "413        984504651  984504651      50000.0         7302.32   \n",
              "...              ...        ...          ...             ...   \n",
              "785758     207667444  207667444       7500.0         6893.70   \n",
              "785915     428856030  428856030        250.0          104.44   \n",
              "785983     205026043  205026043       5000.0          451.59   \n",
              "785984     205026043  205026043       5000.0          433.52   \n",
              "786233     638498773  638498773      10000.0         3049.18   \n",
              "\n",
              "        transactionDateTime  transactionAmount            merchantName  \\\n",
              "263     2016-03-12T06:34:29             118.52             AMC #706324   \n",
              "264     2016-03-12T06:36:41             118.52             AMC #706324   \n",
              "281     2016-03-18T13:57:04              26.71  Planet Fitness #692929   \n",
              "339     2016-04-08T22:21:11              43.21             WSC #994275   \n",
              "413     2016-05-07T07:32:54              23.82       Golds Gym #846582   \n",
              "...                     ...                ...                     ...   \n",
              "785758  2016-10-14T13:24:58              79.82            discount.com   \n",
              "785915  2016-10-30T20:59:18             314.07     Rodeway Inn #438868   \n",
              "785983  2016-06-07T22:29:11             391.94                    Uber   \n",
              "785984  2016-06-07T22:30:57             391.94                    Uber   \n",
              "786233  2016-11-29T23:12:01             390.98    Krispy Kreme #653472   \n",
              "\n",
              "       acqCountry merchantCountryCode posEntryMode posConditionCode  \\\n",
              "263            US                  US           02               01   \n",
              "264            US                  US           02               01   \n",
              "281            US                  US           02               01   \n",
              "339            US                  US           02               08   \n",
              "413            US                  US           09               01   \n",
              "...           ...                 ...          ...              ...   \n",
              "785758         US                  US           02               01   \n",
              "785915         US                  US           02               01   \n",
              "785983         US                  US           09               08   \n",
              "785984         US                  US           09               08   \n",
              "786233         US                  US           05               01   \n",
              "\n",
              "       merchantCategoryCode currentExpDate accountOpenDate  \\\n",
              "263           entertainment        10/2024      2015-07-27   \n",
              "264           entertainment        10/2024      2015-07-27   \n",
              "281                  health        10/2024      2015-07-27   \n",
              "339                  health        02/2030      2015-07-27   \n",
              "413                  health        12/2030      2015-07-27   \n",
              "...                     ...            ...             ...   \n",
              "785758        online_retail        03/2025      2011-12-12   \n",
              "785915               hotels        02/2027      2009-08-17   \n",
              "785983            rideshare        12/2029      2008-04-15   \n",
              "785984            rideshare        12/2029      2008-04-15   \n",
              "786233             fastfood        07/2032      2014-11-17   \n",
              "\n",
              "       dateOfLastAddressChange cardCVV enteredCVV cardLast4Digits  \\\n",
              "263                 2015-07-27     640        640            8332   \n",
              "264                 2015-07-27     640        640            8332   \n",
              "281                 2015-07-27     640        640            8332   \n",
              "339                 2016-03-26     640        640            8332   \n",
              "413                 2016-05-05     640        640            8332   \n",
              "...                        ...     ...        ...             ...   \n",
              "785758              2016-08-16     235        235            9853   \n",
              "785915              2009-08-17     990        990            7660   \n",
              "785983              2008-04-15     198        198            3931   \n",
              "785984              2008-04-15     198        198            3931   \n",
              "786233              2014-11-17     175        175             321   \n",
              "\n",
              "       transactionType  currentBalance  cardPresent  expirationDateKeyInMatch  \\\n",
              "263           PURCHASE        23319.01         True                     False   \n",
              "264           PURCHASE        23437.53         True                     False   \n",
              "281           PURCHASE        25683.88         True                     False   \n",
              "339           PURCHASE        33496.51        False                     False   \n",
              "413           PURCHASE        42697.68         True                     False   \n",
              "...                ...             ...          ...                       ...   \n",
              "785758        PURCHASE          606.30        False                     False   \n",
              "785915        PURCHASE          145.56         True                     False   \n",
              "785983        PURCHASE         4548.41        False                     False   \n",
              "785984        PURCHASE         4566.48        False                     False   \n",
              "786233        PURCHASE         6950.82         True                     False   \n",
              "\n",
              "        isFraud  hour  dayofweek  month  year  indexer Rev_indicator  \\\n",
              "263       False     6          5      3  2016      263            NO   \n",
              "264       False     6          5      3  2016      264            NO   \n",
              "281       False    13          4      3  2016      281            NO   \n",
              "339       False    22          4      4  2016      339            NO   \n",
              "413       False     7          5      5  2016      413            NO   \n",
              "...         ...   ...        ...    ...   ...      ...           ...   \n",
              "785758    False    13          4     10  2016   785758            NO   \n",
              "785915    False    20          6     10  2016   785915            NO   \n",
              "785983    False    22          1      6  2016   785983            NO   \n",
              "785984    False    22          1      6  2016   785984            NO   \n",
              "786233    False    23          1     11  2016   786233            NO   \n",
              "\n",
              "       Multi_indicator  \n",
              "263                YES  \n",
              "264                YES  \n",
              "281                YES  \n",
              "339                YES  \n",
              "413                YES  \n",
              "...                ...  \n",
              "785758             YES  \n",
              "785915             YES  \n",
              "785983             YES  \n",
              "785984             YES  \n",
              "786233             YES  \n",
              "\n",
              "[7429 rows x 30 columns]"
            ]
          },
          "metadata": {}
        }
      ]
    },
    {
      "cell_type": "code",
      "source": "print(df3[df3['Multi_indicator']==\"YES\"].shape[0], df3[df3['Multi_indicator']==\"YES\"]['transactionAmount'].sum())",
      "metadata": {},
      "execution_count": 105,
      "outputs": [
        {
          "name": "stdout",
          "output_type": "stream",
          "text": "7429 1102003.3299999998\n"
        }
      ]
    },
    {
      "cell_type": "markdown",
      "source": "There are 7429 cases of multi-swiped transaction and the total dollar amount of reversed transaction is //$1,102,003.",
      "metadata": {}
    },
    {
      "cell_type": "markdown",
      "source": "Here are some contingency tables for isFraud and the indicator just created",
      "metadata": {}
    },
    {
      "cell_type": "code",
      "source": "contingency= pd.crosstab(df3[\"isFraud\"], df3[\"Rev_indicator\"]) #2x2 contigency table with count\ncontingency\n",
      "metadata": {},
      "execution_count": 106,
      "outputs": [
        {
          "execution_count": 106,
          "output_type": "execute_result",
          "data": {
            "text/html": [
              "<div>\n",
              "<style scoped>\n",
              "    .dataframe tbody tr th:only-of-type {\n",
              "        vertical-align: middle;\n",
              "    }\n",
              "\n",
              "    .dataframe tbody tr th {\n",
              "        vertical-align: top;\n",
              "    }\n",
              "\n",
              "    .dataframe thead th {\n",
              "        text-align: right;\n",
              "    }\n",
              "</style>\n",
              "<table border=\"1\" class=\"dataframe\">\n",
              "  <thead>\n",
              "    <tr style=\"text-align: right;\">\n",
              "      <th>Rev_indicator</th>\n",
              "      <th>NO</th>\n",
              "      <th>YES</th>\n",
              "    </tr>\n",
              "    <tr>\n",
              "      <th>isFraud</th>\n",
              "      <th></th>\n",
              "      <th></th>\n",
              "    </tr>\n",
              "  </thead>\n",
              "  <tbody>\n",
              "    <tr>\n",
              "      <th>False</th>\n",
              "      <td>756493</td>\n",
              "      <td>17453</td>\n",
              "    </tr>\n",
              "    <tr>\n",
              "      <th>True</th>\n",
              "      <td>12114</td>\n",
              "      <td>303</td>\n",
              "    </tr>\n",
              "  </tbody>\n",
              "</table>\n",
              "</div>"
            ],
            "text/plain": [
              "Rev_indicator      NO    YES\n",
              "isFraud                     \n",
              "False          756493  17453\n",
              "True            12114    303"
            ]
          },
          "metadata": {}
        }
      ]
    },
    {
      "cell_type": "code",
      "source": "contingency_pct = pd.crosstab(df3[\"isFraud\"], df3[\"Rev_indicator\"], normalize='index') #2x2 contigency table with pct\ncontingency_pct",
      "metadata": {},
      "execution_count": 107,
      "outputs": [
        {
          "execution_count": 107,
          "output_type": "execute_result",
          "data": {
            "text/html": [
              "<div>\n",
              "<style scoped>\n",
              "    .dataframe tbody tr th:only-of-type {\n",
              "        vertical-align: middle;\n",
              "    }\n",
              "\n",
              "    .dataframe tbody tr th {\n",
              "        vertical-align: top;\n",
              "    }\n",
              "\n",
              "    .dataframe thead th {\n",
              "        text-align: right;\n",
              "    }\n",
              "</style>\n",
              "<table border=\"1\" class=\"dataframe\">\n",
              "  <thead>\n",
              "    <tr style=\"text-align: right;\">\n",
              "      <th>Rev_indicator</th>\n",
              "      <th>NO</th>\n",
              "      <th>YES</th>\n",
              "    </tr>\n",
              "    <tr>\n",
              "      <th>isFraud</th>\n",
              "      <th></th>\n",
              "      <th></th>\n",
              "    </tr>\n",
              "  </thead>\n",
              "  <tbody>\n",
              "    <tr>\n",
              "      <th>False</th>\n",
              "      <td>0.977449</td>\n",
              "      <td>0.022551</td>\n",
              "    </tr>\n",
              "    <tr>\n",
              "      <th>True</th>\n",
              "      <td>0.975598</td>\n",
              "      <td>0.024402</td>\n",
              "    </tr>\n",
              "  </tbody>\n",
              "</table>\n",
              "</div>"
            ],
            "text/plain": [
              "Rev_indicator        NO       YES\n",
              "isFraud                          \n",
              "False          0.977449  0.022551\n",
              "True           0.975598  0.024402"
            ]
          },
          "metadata": {}
        }
      ]
    },
    {
      "cell_type": "code",
      "source": "c, p, dof, expected = chi2_contingency(contingency)\np # Getting p-value for the chisquare test.",
      "metadata": {},
      "execution_count": 108,
      "outputs": [
        {
          "execution_count": 108,
          "output_type": "execute_result",
          "data": {
            "text/plain": [
              "0.17791158543034952"
            ]
          },
          "metadata": {}
        }
      ]
    },
    {
      "cell_type": "markdown",
      "source": "Chi square test is used to test the independece of two categorical features of interest. The proportional difference in fraud for reversed transactions does not show a statistical difference.",
      "metadata": {}
    },
    {
      "cell_type": "code",
      "source": "contingency= pd.crosstab(df3[\"isFraud\"], df3[\"Multi_indicator\"]) #2x2 contigency table with count\ncontingency",
      "metadata": {},
      "execution_count": 109,
      "outputs": [
        {
          "execution_count": 109,
          "output_type": "execute_result",
          "data": {
            "text/html": [
              "<div>\n",
              "<style scoped>\n",
              "    .dataframe tbody tr th:only-of-type {\n",
              "        vertical-align: middle;\n",
              "    }\n",
              "\n",
              "    .dataframe tbody tr th {\n",
              "        vertical-align: top;\n",
              "    }\n",
              "\n",
              "    .dataframe thead th {\n",
              "        text-align: right;\n",
              "    }\n",
              "</style>\n",
              "<table border=\"1\" class=\"dataframe\">\n",
              "  <thead>\n",
              "    <tr style=\"text-align: right;\">\n",
              "      <th>Multi_indicator</th>\n",
              "      <th>NO</th>\n",
              "      <th>YES</th>\n",
              "    </tr>\n",
              "    <tr>\n",
              "      <th>isFraud</th>\n",
              "      <th></th>\n",
              "      <th></th>\n",
              "    </tr>\n",
              "  </thead>\n",
              "  <tbody>\n",
              "    <tr>\n",
              "      <th>False</th>\n",
              "      <td>766645</td>\n",
              "      <td>7301</td>\n",
              "    </tr>\n",
              "    <tr>\n",
              "      <th>True</th>\n",
              "      <td>12289</td>\n",
              "      <td>128</td>\n",
              "    </tr>\n",
              "  </tbody>\n",
              "</table>\n",
              "</div>"
            ],
            "text/plain": [
              "Multi_indicator      NO   YES\n",
              "isFraud                      \n",
              "False            766645  7301\n",
              "True              12289   128"
            ]
          },
          "metadata": {}
        }
      ]
    },
    {
      "cell_type": "code",
      "source": "contingency_pct = pd.crosstab(df3[\"isFraud\"], df3[\"Multi_indicator\"], normalize='index') #2x2 contigency table with pct\ncontingency_pct",
      "metadata": {},
      "execution_count": 110,
      "outputs": [
        {
          "execution_count": 110,
          "output_type": "execute_result",
          "data": {
            "text/html": [
              "<div>\n",
              "<style scoped>\n",
              "    .dataframe tbody tr th:only-of-type {\n",
              "        vertical-align: middle;\n",
              "    }\n",
              "\n",
              "    .dataframe tbody tr th {\n",
              "        vertical-align: top;\n",
              "    }\n",
              "\n",
              "    .dataframe thead th {\n",
              "        text-align: right;\n",
              "    }\n",
              "</style>\n",
              "<table border=\"1\" class=\"dataframe\">\n",
              "  <thead>\n",
              "    <tr style=\"text-align: right;\">\n",
              "      <th>Multi_indicator</th>\n",
              "      <th>NO</th>\n",
              "      <th>YES</th>\n",
              "    </tr>\n",
              "    <tr>\n",
              "      <th>isFraud</th>\n",
              "      <th></th>\n",
              "      <th></th>\n",
              "    </tr>\n",
              "  </thead>\n",
              "  <tbody>\n",
              "    <tr>\n",
              "      <th>False</th>\n",
              "      <td>0.990567</td>\n",
              "      <td>0.009433</td>\n",
              "    </tr>\n",
              "    <tr>\n",
              "      <th>True</th>\n",
              "      <td>0.989692</td>\n",
              "      <td>0.010308</td>\n",
              "    </tr>\n",
              "  </tbody>\n",
              "</table>\n",
              "</div>"
            ],
            "text/plain": [
              "Multi_indicator        NO       YES\n",
              "isFraud                            \n",
              "False            0.990567  0.009433\n",
              "True             0.989692  0.010308"
            ]
          },
          "metadata": {}
        }
      ]
    },
    {
      "cell_type": "code",
      "source": "c, p, dof, expected = chi2_contingency(contingency)\np # Getting p-value for the chisquare test.",
      "metadata": {},
      "execution_count": 111,
      "outputs": [
        {
          "execution_count": 111,
          "output_type": "execute_result",
          "data": {
            "text/plain": [
              "0.3405188183914446"
            ]
          },
          "metadata": {}
        }
      ]
    },
    {
      "cell_type": "markdown",
      "source": "The proportional difference in fraud for multi-swiped and non-swiped transactions does not show a statistical difference.",
      "metadata": {}
    },
    {
      "cell_type": "markdown",
      "source": "## 5. Modeling\n### Classficiation modeling for detection of fraduelent transaction\n",
      "metadata": {}
    },
    {
      "cell_type": "markdown",
      "source": "For this classification task, the most accessible model that can be used is the logistic regression model. Therefore, I will set the logistic regression model as a baseline model. The logistic regression model, specifically, a logistic regression model with l1 penalty (Lasso), will be used. The L1 penalty penalizes the predictors with weak predictive values and automatically penalizes and does not play in the model. \n\nThe other approach is selected for one of the tree-based models. The model I am going to suggest is XGBoost. Maybe the most well-known tree-based model is Random Forest. The naive comparison of Random forest and XGBoost is that Random Forest decides the final model with a champion among different tree models. On the other hand, XGBoost refines from weaker tree to stronger tree.\nI decided to use XGboost over Random forest because Xgboost works better for imbalanced classification tasks than random forest if I can avoid the possible overfitting in XGboost. Also, previous work experience told me that XGBoost is pretty reliable in classification and feature selection.\n\nIn addition to comparing logistic regression and Xgboost, I will compare the feature engineering that I have done during Q1~Q3 and some additional feature engineering. So first, I will just run with the original data I have with minimal preprocessing of data with just a dummy coding for categorical variables. Next, I will add additional predictors and run the same analysis for logistic regression and XG boost.\n",
      "metadata": {}
    },
    {
      "cell_type": "code",
      "source": "from numpy import loadtxt\nimport xgboost\nfrom xgboost import XGBClassifier\nimport sklearn\nfrom sklearn.model_selection import train_test_split\nfrom sklearn.metrics import accuracy_score\nimport matplotlib.pyplot as plt\nfrom sklearn.model_selection import RepeatedStratifiedKFold\nfrom collections import Counter\nfrom sklearn.datasets import make_classification\nfrom matplotlib import pyplot\nfrom numpy import where\nfrom numpy import mean\nfrom sklearn.datasets import make_classification\nfrom sklearn.model_selection import cross_val_score\nfrom sklearn.model_selection import cross_val_predict\nfrom sklearn.model_selection import RepeatedStratifiedKFold\nfrom xgboost import XGBClassifier\nimport random\nimport seaborn as sns\nfrom sklearn.model_selection import StratifiedKFold\nfrom sklearn.model_selection import GridSearchCV\nfrom imblearn.over_sampling import SMOTE\n#from imblearn.over_sampling import SMOTE\nfrom xgboost import Booster\nfrom xgboost import DMatrix\nfrom sklearn import metrics\nfrom datetime import datetime\nimport sklearn",
      "metadata": {},
      "execution_count": 246,
      "outputs": []
    },
    {
      "cell_type": "code",
      "source": "df4=df3.copy() #df4 will be used for logistic regression and xgboost for minimal preprocessing of data.",
      "metadata": {},
      "execution_count": 247,
      "outputs": []
    },
    {
      "cell_type": "code",
      "source": "tempdf=pd.get_dummies(df4.merchantCategoryCode, prefix='merchantCategoryCode')\ndf4=pd.concat([df4, tempdf], axis=1)\ntempdf=pd.get_dummies(df4.transactionType, prefix='transactionType')\ndf4=pd.concat([df4, tempdf], axis=1)\ntempdf=pd.get_dummies(df4.posEntryMode, prefix='posEntryMode')\ndf4=pd.concat([df4, tempdf], axis=1)\ntempdf=pd.get_dummies(df4.acqCountry, prefix='acqCountry')\ndf4=pd.concat([df4, tempdf], axis=1)   \n\n#Dummy coding for the categorical variable to be used\ndf4[\"isFraud\"]=df4[\"isFraud\"]*1\ndf4['cardPresent']=df4['cardPresent']*1\n#just in case for error made it to numeric\ndf_train, df_test=train_test_split(df4,test_size=0.3,random_state=8,stratify=df4[['isFraud']])\n# Stratified sampling of 70% training 30% test\ntrain_counts=df_train['isFraud']\nprint(sum(df_train['isFraud'])/df_train.shape[0])\nprint(sum(df_test['isFraud'])/df_test.shape[0])\nprint(sum(df4['isFraud'])/df4.shape[0])\n#To check the sratified sampling worked correctly\ndrops=['accountNumber',\n 'customerId',\n 'transactionDateTime',\n      'merchantName',\n 'acqCountry',\n 'merchantCountryCode',\n 'posEntryMode',\n 'posConditionCode',\n 'merchantCategoryCode',\n 'currentExpDate',\n 'accountOpenDate',\n 'dateOfLastAddressChange',\n 'cardCVV',\n 'enteredCVV',\n 'cardLast4Digits',\n 'transactionType',\n 'currentBalance',\n 'expirationDateKeyInMatch',\n       'Rev_indicator',\n       'Multi_indicator',\n      'hour',\n       'dayofweek',\n       'month',\n       'year',\n       'indexer']\n#List of features to be dropped.\n\nX_trainall = df_train.iloc[:, df_train.columns != 'isFraud']\nX_train=X_trainall.drop(drops, axis = 1)\ny_train = df_train.iloc[:, df_train.columns == 'isFraud']\nX_testall = df_test.iloc[:, df_test.columns != 'isFraud']\nX_test=X_testall.drop(drops, axis = 1)\ny_test = df_test.iloc[:, df_test.columns == 'isFraud']\n#Spliting train and test for X and y with dropping feautres not used for the modeling.\n",
      "metadata": {},
      "execution_count": 248,
      "outputs": [
        {
          "name": "stdout",
          "output_type": "stream",
          "text": "0.01579060193948995\n\n0.015789986816950603\n\n0.01579041740264992\n"
        }
      ]
    },
    {
      "cell_type": "markdown",
      "source": "The categorical variables are dummy coded. The training set and the test were sampled, and they will be used for both logistic regression and XGboost.",
      "metadata": {}
    },
    {
      "cell_type": "code",
      "source": "",
      "metadata": {},
      "execution_count": null,
      "outputs": []
    },
    {
      "cell_type": "code",
      "source": "# roc curve and auc\nfrom sklearn.datasets import make_classification\nfrom sklearn.linear_model import LogisticRegression\nfrom sklearn.model_selection import train_test_split\nfrom sklearn.metrics import roc_curve\nfrom sklearn.metrics import roc_auc_score\nmodel_logistic = LogisticRegression(penalty='l1',solver='liblinear')\nmodel_logistic.fit(X_train, y_train)\nmodel_logistic.score(X_test,y_test) \n#running logistic regression with L1 penalty\n\n# predict probabilities\nlr_probs = model_logistic.predict_proba(X_test)\n# keep probabilities for the positive outcome only\nlr_probs = lr_probs[:, 1]\n# calculate scores\nns_probs = [0 for _ in range(len(y_test))]\nns_auc = roc_auc_score(y_test, ns_probs)\nlr_auc = roc_auc_score(y_test, lr_probs)\n# summarize scores\nprint('No Skill: ROC AUC=%.3f' % (ns_auc))\nprint('Logistic: ROC AUC=%.3f' % (lr_auc))\n\n# calculate roc curves\nns_fpr, ns_tpr, _ = roc_curve(y_test, ns_probs)\nlr_fpr, lr_tpr, _ = roc_curve(y_test, lr_probs)\n# plot the roc curve for the model\npyplot.plot(ns_fpr, ns_tpr, linestyle='--', label='No Skill')\npyplot.plot(lr_fpr, lr_tpr, marker='.', label='Logistic')\n# axis labels\npyplot.xlabel('False Positive Rate')\npyplot.ylabel('True Positive Rate')\n# show the legend\npyplot.legend()\n# show the plot\npyplot.show()",
      "metadata": {},
      "execution_count": 249,
      "outputs": [
        {
          "name": "stdout",
          "output_type": "stream",
          "text": "No Skill: ROC AUC=0.500\n\nLogistic: ROC AUC=0.749\n"
        },
        {
          "output_type": "display_data",
          "data": {
            "image/png": "[encoded data removed]",
            "text/plain": [
              "<Figure size 576x288 with 1 Axes>"
            ]
          },
          "metadata": {
            "needs_background": "light"
          }
        }
      ]
    },
    {
      "cell_type": "markdown",
      "source": "Logistic lasso regression showed AUC of 0.749.",
      "metadata": {}
    },
    {
      "cell_type": "code",
      "source": "model_default = XGBClassifier(base_score=sum(df4['isFraud'])/df4.shape[0])\n#XG BOOST with base_score using portion of fraud\nmodel_default.fit(X_train, y_train)\ny_pred_d = model_default.predict_proba(X_test)[:,1]\n#Prediction of y_test\n\n###process to generate ROC curve\nfp_r, tp_r, t = metrics.roc_curve(y_test, y_pred_d)\nauc = metrics.auc(fp_r, tp_r)\nplt.figure(figsize=(8, 6))\nplt.plot(fp_r, tp_r, label=\"AUC = %.3f\" % auc)\nplt.plot([0,1],[0,1],\"r--\")\nplt.ylabel(\"TP rate\")\nplt.xlabel(\"FP rate\")\nplt.legend(loc=4)\nplt.title(\"ROC Curve\")\nplt.show()\n###",
      "metadata": {},
      "execution_count": 250,
      "outputs": [
        {
          "output_type": "display_data",
          "data": {
            "image/png": "[encoded data removed]",
            "text/plain": [
              "<Figure size 576x432 with 1 Axes>"
            ]
          },
          "metadata": {
            "needs_background": "light"
          }
        }
      ]
    },
    {
      "cell_type": "code",
      "source": "t_opt_idx = np.argmax(tp_r - fp_r)\nt_opt = t[t_opt_idx]\nprint(\"Threshold value is: %.4f\" % t_opt)",
      "metadata": {},
      "execution_count": 251,
      "outputs": [
        {
          "name": "stdout",
          "output_type": "stream",
          "text": "Threshold value is: 0.0155\n"
        }
      ]
    },
    {
      "cell_type": "markdown",
      "source": "The treshold value that maximize true positive rate - false positive rate is 0.0135. Let see how model behaves with other thresholds.",
      "metadata": {}
    },
    {
      "cell_type": "code",
      "source": "#Confusion matrix using different treshold\ny_pred = model_default.predict_proba(X_test)[:,1]\nfig, axes = plt.subplots(3,3, figsize=(10,10))\nfor t, ax in enumerate(axes.flat):\n    threshold = round((t+1)/500,4)\n    y_pred_int = (y_pred > threshold).astype(int)\n    c_matrix = metrics.confusion_matrix(y_test, y_pred_int)\n    sns.heatmap(c_matrix, annot=True, cmap=\"Blues\", fmt=\"d\", ax=ax, cbar=False)\n    ax.title.set_text(\"T=%.4f\" % threshold)\nplt.subplots_adjust(hspace=0.5, wspace=0.5)\nplt.suptitle(\"Impact of threshold adjustment on the error matrix\")",
      "metadata": {},
      "execution_count": 252,
      "outputs": [
        {
          "execution_count": 252,
          "output_type": "execute_result",
          "data": {
            "text/plain": [
              "Text(0.5, 0.98, 'Impact of threshold adjustment on the error matrix')"
            ]
          },
          "metadata": {}
        },
        {
          "output_type": "display_data",
          "data": {
            "image/png": "[encoded data removed]",
            "text/plain": [
              "<Figure size 720x720 with 9 Axes>"
            ]
          },
          "metadata": {
            "needs_background": "light"
          }
        }
      ]
    },
    {
      "cell_type": "markdown",
      "source": "Based on the purpose of the detection, one may choose a more aggressive (lower threshold) prediction or a more conservative (higher threshold) prediction. ",
      "metadata": {}
    },
    {
      "cell_type": "code",
      "source": "xgboost.plot_importance(model_default,  height=0.5, max_num_features=20, importance_type='gain')\nplt.show()",
      "metadata": {},
      "execution_count": 253,
      "outputs": [
        {
          "output_type": "display_data",
          "data": {
            "image/png": "[encoded data removed]",
            "text/plain": [
              "<Figure size 576x288 with 1 Axes>"
            ]
          },
          "metadata": {
            "needs_background": "light"
          }
        }
      ]
    },
    {
      "cell_type": "markdown",
      "source": "These are important features that contribute to the prediction. The top two are cardPresent and poeEntryMode_05. I googled 'pos entry mode', and the 05 means 'Integrated circuit reader'. Using a chip physically also means the presence of a card, so they should be highly correlated features.",
      "metadata": {}
    },
    {
      "cell_type": "code",
      "source": "df5=df3.copy()",
      "metadata": {},
      "execution_count": 260,
      "outputs": []
    },
    {
      "cell_type": "code",
      "source": "#\ndf5['TA_zscore']=(df5['transactionAmount'] - df5['transactionAmount'].mean()) / df5['transactionAmount'].std()\n#Zscore for transaction amount\ndf5['TA_ZS_GRP']=df5.groupby('merchantCategoryCode')['transactionAmount'].transform(lambda x: (x-x.mean())/x.std())\n#Zscore grouped by 'merchantCategoryCode'\ndf5['TA_ZS_POS']=df5.groupby('posEntryMode')['transactionAmount'].transform(lambda x: (x-x.mean())/x.std())\n#Zscore grouped by 'posEntryMode'\ndf5['TA_ZS_hold']=df5.groupby('cardPresent')['transactionAmount'].transform(lambda x: (x-x.mean())/x.std())\n#Zscore grouped by 'cardPresent'\n\n#### Dummy coding \ntempdf=pd.get_dummies(df5.merchantCategoryCode, prefix='merchantCategoryCode')\ndf5=pd.concat([df5, tempdf], axis=1)\ntempdf=pd.get_dummies(df5.transactionType, prefix='transactionType')\ndf5=pd.concat([df5, tempdf], axis=1)\ntempdf=pd.get_dummies(df5.posEntryMode, prefix='posEntryMode')\ndf5=pd.concat([df5, tempdf], axis=1)\ntempdf=pd.get_dummies(df5.acqCountry, prefix='acqCountry')\ndf5=pd.concat([df5, tempdf], axis=1)   \ntempdf=pd.get_dummies(df5.acqCountry, prefix='hour')\ndf5=pd.concat([df5, tempdf], axis=1)  \ntempdf=pd.get_dummies(df5.acqCountry, prefix='month')\ndf5=pd.concat([df5, tempdf], axis=1)  \ntempdf=pd.get_dummies(df5.acqCountry, prefix='dayofweek')\ndf5=pd.concat([df5, tempdf], axis=1)  \ntempdf=pd.get_dummies(df5.acqCountry, prefix='Rev_indicator')\ndf5=pd.concat([df5, tempdf], axis=1)  \ntempdf=pd.get_dummies(df5.acqCountry, prefix='Multi_indicator')\ndf5=pd.concat([df5, tempdf], axis=1) \n#### Dummy coding \n \ndf5[\"isFraud\"]=df5[\"isFraud\"]*1\ndf5['cardPresent']=df5['cardPresent']*1\n#making into nuemric to avoide possible error\ndf_train, df_test=train_test_split(df5,test_size=0.3,random_state=8,stratify=df5[['isFraud']])\n# Stratified sampling of 70% training 30% test\n\ntrain_counts=df_train['isFraud']\nprint(sum(df_train['isFraud'])/df_train.shape[0])\nprint(sum(df_test['isFraud'])/df_test.shape[0])\nprint(sum(df5['isFraud'])/df5.shape[0])\n#checking for correct stratified sampling\ndrops=['accountNumber',\n 'customerId',\n 'transactionDateTime',\n      'merchantName',\n 'acqCountry',\n 'merchantCountryCode',\n 'posEntryMode',\n 'posConditionCode',\n 'merchantCategoryCode',\n 'currentExpDate',\n 'accountOpenDate',\n 'dateOfLastAddressChange',\n 'cardCVV',\n 'enteredCVV',\n 'cardLast4Digits',\n 'transactionType',\n 'currentBalance',\n 'expirationDateKeyInMatch',\n       'indexer','Rev_indicator','Multi_indicator']\nX_trainall = df_train.iloc[:, df_train.columns != 'isFraud']\nX_train=X_trainall.drop(drops, axis = 1)\ny_train = df_train.iloc[:, df_train.columns == 'isFraud']\nX_testall = df_test.iloc[:, df_test.columns != 'isFraud']\nX_test=X_testall.drop(drops, axis = 1)\ny_test = df_test.iloc[:, df_test.columns == 'isFraud']\n#Spliting train and test for X and y with dropping feautres not used for the modeling.\n",
      "metadata": {},
      "execution_count": 261,
      "outputs": [
        {
          "name": "stdout",
          "output_type": "stream",
          "text": "0.01579060193948995\n\n0.015789986816950603\n\n0.01579041740264992\n"
        }
      ]
    },
    {
      "cell_type": "code",
      "source": "# roc curve and auc\nfrom sklearn.datasets import make_classification\nfrom sklearn.linear_model import LogisticRegression\nfrom sklearn.model_selection import train_test_split\nfrom sklearn.metrics import roc_curve\nfrom sklearn.metrics import roc_auc_score\nmodel_logistic = LogisticRegression(penalty='l1',solver='liblinear')\nmodel_logistic.fit(X_train, y_train)\nmodel_logistic.score(X_test,y_test) \n#running logistic regression with L1 penalty\n\n# predict probabilities\nlr_probs = model_logistic.predict_proba(X_test)\n# keep probabilities for the positive outcome only\nlr_probs = lr_probs[:, 1]\n# calculate scores\nns_probs = [0 for _ in range(len(y_test))]\nns_auc = roc_auc_score(y_test, ns_probs)\nlr_auc = roc_auc_score(y_test, lr_probs)\n# summarize scores\nprint('No Skill: ROC AUC=%.3f' % (ns_auc))\nprint('Logistic: ROC AUC=%.3f' % (lr_auc))\n\n# calculate roc curves\nns_fpr, ns_tpr, _ = roc_curve(y_test, ns_probs)\nlr_fpr, lr_tpr, _ = roc_curve(y_test, lr_probs)\n# plot the roc curve for the model\npyplot.plot(ns_fpr, ns_tpr, linestyle='--', label='No Skill')\npyplot.plot(lr_fpr, lr_tpr, marker='.', label='Logistic')\n# axis labels\npyplot.xlabel('False Positive Rate')\npyplot.ylabel('True Positive Rate')\n# show the legend\npyplot.legend()\n# show the plot\npyplot.show()",
      "metadata": {},
      "execution_count": 262,
      "outputs": [
        {
          "name": "stdout",
          "output_type": "stream",
          "text": "No Skill: ROC AUC=0.500\n\nLogistic: ROC AUC=0.749\n"
        },
        {
          "output_type": "display_data",
          "data": {
            "image/png": "[encoded data removed]",
            "text/plain": [
              "<Figure size 576x288 with 1 Axes>"
            ]
          },
          "metadata": {
            "needs_background": "light"
          }
        }
      ]
    },
    {
      "cell_type": "markdown",
      "source": "Zero improvement from previous model with additional features.",
      "metadata": {}
    },
    {
      "cell_type": "code",
      "source": "model_default = XGBClassifier(base_score=sum(df5['isFraud'])/df5.shape[0])\n#XG BOOST with base_score using portion of fraud\nmodel_default.fit(X_train, y_train)\ny_pred_d = model_default.predict_proba(X_test)[:,1]\n#Prediction of y_test\n\n###process to generate ROC curve\nfp_r, tp_r, t = metrics.roc_curve(y_test, y_pred_d)\nauc = metrics.auc(fp_r, tp_r)\nplt.figure(figsize=(8, 6))\nplt.plot(fp_r, tp_r, label=\"AUC = %.3f\" % auc)\nplt.plot([0,1],[0,1],\"r--\")\nplt.ylabel(\"TP rate\")\nplt.xlabel(\"FP rate\")\nplt.legend(loc=4)\nplt.title(\"ROC Curve\")\nplt.show()\n###",
      "metadata": {},
      "execution_count": 263,
      "outputs": [
        {
          "output_type": "display_data",
          "data": {
            "image/png": "[encoded data removed]",
            "text/plain": [
              "<Figure size 576x432 with 1 Axes>"
            ]
          },
          "metadata": {
            "needs_background": "light"
          }
        }
      ]
    },
    {
      "cell_type": "markdown",
      "source": "AUC even decreased slightly from previous XGBoost model (.782 to .776). ",
      "metadata": {}
    },
    {
      "cell_type": "markdown",
      "source": "### Result",
      "metadata": {}
    },
    {
      "cell_type": "markdown",
      "source": "XGBoost shows better prediction than the logistic regression. But, the additional features do not provide any benefit for either of the modeling frameworks. ",
      "metadata": {}
    },
    {
      "cell_type": "markdown",
      "source": "### Future work",
      "metadata": {}
    },
    {
      "cell_type": "markdown",
      "source": "First, maybe I can do more works on the modeling frameworks side. Even within XGBoost, I can try to look for better parameter tuning. I tried for SMOTE (Synthetic Minority Oversampling Technique), but it did not work well. I added the work related to the SMOTE at the end of this document.\n\nSecond, and which is more important than the modeling framework, is feature engineering. It can bring more impact with an increase in predictive performance. One idea that I could not apply was using previous Fraud records as a predictor. One problem that holds me back is that I don't know the timing of the Fraud indicator update for the transactions. At the timing of one transaction, I am unsure how to set a lag for past fraud data. These kinds of predictors were used in my past projects. There were features like \"days_since_last_'target'\", \"number_of_'target'_happened_during_months' and etc. If I had a better background with this data and had more time, I could generate those features and test them in the model.\n",
      "metadata": {}
    },
    {
      "cell_type": "markdown",
      "source": "## Appendix: SMOTE",
      "metadata": {}
    },
    {
      "cell_type": "markdown",
      "source": "The idea of SMOTE is to oversample the target label with fewer counts (in our case isFraud==True) until the sample of each label becomes 50/50. It makes the imbalanced classification task into a balanced classification task. Contrary to expectations, the SMOTE could not improve the model. I will just add code for SMOTE as an appendix. ",
      "metadata": {}
    },
    {
      "cell_type": "code",
      "source": "X_train_smote, y_train_smote = SMOTE(random_state=10).fit_resample(X_train, y_train)\nsmote_value_counts = y_train_smote['isFraud'].value_counts()\nprint(\"Fraudulent transactions are %.2f%% of the test set.\" % (smote_value_counts[0] * 100 / len(y_train_smote)))",
      "metadata": {},
      "execution_count": 267,
      "outputs": [
        {
          "name": "stdout",
          "output_type": "stream",
          "text": "Fraudulent transactions are 50.00% of the test set.\n"
        }
      ]
    },
    {
      "cell_type": "code",
      "source": "def xgboost_search(X, y, search_verbose=1):\n    params = {\n        \"gamma\":[0.5, 1, 1.5, 2, 5],\n        \"max_depth\":[3,4,5,6],\n        \"min_child_weight\": [100],\n        \"subsample\": [0.6, 0.8, 1.0],\n        \"colsample_bytree\": [0.6, 0.8, 1.0],\n        \"learning_rate\": [0.1, 0.01, 0.001]\n    }\n    xgb = XGBClassifier(objective=\"binary:logistic\", eval_metric=\"auc\", use_label_encoder=False)\n    skf = StratifiedKFold(n_splits=3, shuffle=True, random_state=10)\n    grid_search = GridSearchCV(estimator=xgb, param_grid=params, scoring=\"roc_auc\", n_jobs=1, cv=skf.split(X,y), verbose=search_verbose)\n    grid_search.fit(X, y)\n    print(\"Best estimator: \")\n    print(grid_search.best_estimator_)\n    print(\"Parameters: \", grid_search.best_params_)\n    print(\"Highest AUC: %.2f\" % grid_search.best_score_)\n    return grid_search.best_params_\n#rows = random.sample(np.arange(0,len(X_train_smote.index)).tolist(), 5000)\n#model_params = xgboost_search(X_train_smote.iloc[rows,], y_train_smote.iloc[rows,] )\n#searched params are applied in next line. The running time is too long.",
      "metadata": {},
      "execution_count": 268,
      "outputs": []
    },
    {
      "cell_type": "code",
      "source": "\nmodel = XGBClassifier(objective=\"binary:logistic\", eval_metric=\"auc\", use_label_encoder=False)\nmodel.set_params(base_score=0.5, booster='gbtree',\n              colsample_bylevel=1, colsample_bynode=1, colsample_bytree=1,\n              gamma=0, gpu_id=-1, importance_type='gain',\n              interaction_constraints='', learning_rate=0.300000012,\n              max_delta_step=0, max_depth=6, min_child_weight=1, \n              monotone_constraints='()', n_estimators=100, n_jobs=0,\n              num_parallel_tree=1, random_state=0, reg_alpha=0, reg_lambda=1,\n              scale_pos_weight=1, subsample=1, tree_method='exact',\n              validate_parameters=1, verbosity=None)\nmodel.fit(X_train_smote, y_train_smote)\n\n\n",
      "metadata": {},
      "execution_count": 270,
      "outputs": [
        {
          "name": "stdout",
          "output_type": "stream",
          "text": "[23:19:02] WARNING: ../src/learner.cc:516: \n\nParameters: { use_label_encoder } might not be used.\n\n\n\n  This may not be accurate due to some parameters are only used in language bindings but\n\n  passed down to XGBoost core.  Or some parameters are not used but slip through this\n\n  verification. Please open an issue if you find above cases.\n\n\n\n\n"
        },
        {
          "execution_count": 270,
          "output_type": "execute_result",
          "data": {
            "text/plain": [
              "XGBClassifier(base_score=0.5, booster='gbtree', colsample_bylevel=1,\n",
              "              colsample_bynode=1, colsample_bytree=1, eval_metric='auc',\n",
              "              gamma=0, gpu_id=-1, importance_type='gain',\n",
              "              interaction_constraints='', learning_rate=0.300000012,\n",
              "              max_delta_step=0, max_depth=6, min_child_weight=1, missing=nan,\n",
              "              monotone_constraints='()', n_estimators=100, n_jobs=0,\n",
              "              num_parallel_tree=1, random_state=0, reg_alpha=0, reg_lambda=1,\n",
              "              scale_pos_weight=1, subsample=1, tree_method='exact',\n",
              "              use_label_encoder=False, validate_parameters=1, verbosity=None)"
            ]
          },
          "metadata": {}
        }
      ]
    },
    {
      "cell_type": "code",
      "source": "y_pred = model.predict_proba(X_test)[:,1]\nfp_r, tp_r, t = metrics.roc_curve(y_test, y_pred)\nauc = metrics.auc(fp_r, tp_r)\nplt.figure(figsize=(8, 6))\nplt.plot(fp_r, tp_r, label=\"AUC = %.2f\" % auc)\nplt.plot([0,1],[0,1],\"r--\")\nplt.ylabel(\"TP rate\")\nplt.xlabel(\"FP rate\")\nplt.legend(loc=4)\nplt.title(\"ROC Curve\")\nplt.show()",
      "metadata": {},
      "execution_count": 271,
      "outputs": [
        {
          "output_type": "display_data",
          "data": {
            "image/png": "[encoded data removed]",
            "text/plain": [
              "<Figure size 576x432 with 1 Axes>"
            ]
          },
          "metadata": {
            "needs_background": "light"
          }
        }
      ]
    },
    {
      "cell_type": "markdown",
      "source": "The perfromance was rather decreased with oversampling.",
      "metadata": {}
    },
    {
      "cell_type": "code",
      "source": "",
      "metadata": {},
      "execution_count": null,
      "outputs": []
    }
  ]
}